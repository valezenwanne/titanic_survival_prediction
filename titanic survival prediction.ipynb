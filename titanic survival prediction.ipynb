{
 "cells": [
  {
   "cell_type": "markdown",
   "id": "f1c246fe",
   "metadata": {},
   "source": [
    "# Titanic Survival Prediction\n",
    "- By Valentine Ezenwanne"
   ]
  },
  {
   "cell_type": "markdown",
   "id": "46b4ee13",
   "metadata": {},
   "source": [
    "## Objective\n",
    "- To build a system that tells whether a passenger will be saved from sinking"
   ]
  },
  {
   "cell_type": "markdown",
   "id": "2646adf6",
   "metadata": {},
   "source": [
    "## Dataset description\n",
    "- Passenger Id: Passenger number\n",
    " \n",
    "- Survival:\t0 = No, 1 = Yes\n",
    "\n",
    "- Pclass: Ticket class\t1 = 1st, 2 = 2nd, 3 = 3rd\n",
    "\n",
    "- Sex: Gender\n",
    "\n",
    "- Age: Age in years \t\n",
    "\n",
    "- SibSp: Number of siblings / spouses aboard the Titanic\t\n",
    "\n",
    "- Parch: Number of parents / children aboard the Titanic\t\n",
    "\n",
    "- Ticket: Ticket number\t\n",
    "\n",
    "- Fare:\tPassenger fare\t\n",
    "\n",
    "- Cabin:\tCabin number\t\n",
    "\n",
    "- Embarked\tPort of where passenger mounted from\tC = Cherbourg, Q = Queenstown, S = Southampton\n"
   ]
  },
  {
   "cell_type": "markdown",
   "id": "75089093",
   "metadata": {},
   "source": [
    "## Import the libraries"
   ]
  },
  {
   "cell_type": "code",
   "execution_count": 1,
   "id": "f1ccca4e",
   "metadata": {},
   "outputs": [],
   "source": [
    "#import the libraries\n",
    "import pandas as pd\n",
    "import numpy as np\n",
    "import matplotlib.pyplot as plt\n",
    "import seaborn as sns\n",
    "pd.set_option('display.max_columns', None)\n",
    "%matplotlib inline"
   ]
  },
  {
   "cell_type": "markdown",
   "id": "70ed84c6",
   "metadata": {},
   "source": [
    "### Load the dataset"
   ]
  },
  {
   "cell_type": "code",
   "execution_count": 2,
   "id": "4add14a0",
   "metadata": {},
   "outputs": [],
   "source": [
    "#load the dataset\n",
    "df = pd.read_csv('train.csv')"
   ]
  },
  {
   "cell_type": "code",
   "execution_count": 3,
   "id": "2163f622",
   "metadata": {},
   "outputs": [
    {
     "data": {
      "text/html": [
       "<div>\n",
       "<style scoped>\n",
       "    .dataframe tbody tr th:only-of-type {\n",
       "        vertical-align: middle;\n",
       "    }\n",
       "\n",
       "    .dataframe tbody tr th {\n",
       "        vertical-align: top;\n",
       "    }\n",
       "\n",
       "    .dataframe thead th {\n",
       "        text-align: right;\n",
       "    }\n",
       "</style>\n",
       "<table border=\"1\" class=\"dataframe\">\n",
       "  <thead>\n",
       "    <tr style=\"text-align: right;\">\n",
       "      <th></th>\n",
       "      <th>PassengerId</th>\n",
       "      <th>Survived</th>\n",
       "      <th>Pclass</th>\n",
       "      <th>Name</th>\n",
       "      <th>Sex</th>\n",
       "      <th>Age</th>\n",
       "      <th>SibSp</th>\n",
       "      <th>Parch</th>\n",
       "      <th>Ticket</th>\n",
       "      <th>Fare</th>\n",
       "      <th>Cabin</th>\n",
       "      <th>Embarked</th>\n",
       "    </tr>\n",
       "  </thead>\n",
       "  <tbody>\n",
       "    <tr>\n",
       "      <th>0</th>\n",
       "      <td>1</td>\n",
       "      <td>0</td>\n",
       "      <td>3</td>\n",
       "      <td>Braund, Mr. Owen Harris</td>\n",
       "      <td>male</td>\n",
       "      <td>22.0</td>\n",
       "      <td>1</td>\n",
       "      <td>0</td>\n",
       "      <td>A/5 21171</td>\n",
       "      <td>7.2500</td>\n",
       "      <td>NaN</td>\n",
       "      <td>S</td>\n",
       "    </tr>\n",
       "    <tr>\n",
       "      <th>1</th>\n",
       "      <td>2</td>\n",
       "      <td>1</td>\n",
       "      <td>1</td>\n",
       "      <td>Cumings, Mrs. John Bradley (Florence Briggs Th...</td>\n",
       "      <td>female</td>\n",
       "      <td>38.0</td>\n",
       "      <td>1</td>\n",
       "      <td>0</td>\n",
       "      <td>PC 17599</td>\n",
       "      <td>71.2833</td>\n",
       "      <td>C85</td>\n",
       "      <td>C</td>\n",
       "    </tr>\n",
       "    <tr>\n",
       "      <th>2</th>\n",
       "      <td>3</td>\n",
       "      <td>1</td>\n",
       "      <td>3</td>\n",
       "      <td>Heikkinen, Miss. Laina</td>\n",
       "      <td>female</td>\n",
       "      <td>26.0</td>\n",
       "      <td>0</td>\n",
       "      <td>0</td>\n",
       "      <td>STON/O2. 3101282</td>\n",
       "      <td>7.9250</td>\n",
       "      <td>NaN</td>\n",
       "      <td>S</td>\n",
       "    </tr>\n",
       "    <tr>\n",
       "      <th>3</th>\n",
       "      <td>4</td>\n",
       "      <td>1</td>\n",
       "      <td>1</td>\n",
       "      <td>Futrelle, Mrs. Jacques Heath (Lily May Peel)</td>\n",
       "      <td>female</td>\n",
       "      <td>35.0</td>\n",
       "      <td>1</td>\n",
       "      <td>0</td>\n",
       "      <td>113803</td>\n",
       "      <td>53.1000</td>\n",
       "      <td>C123</td>\n",
       "      <td>S</td>\n",
       "    </tr>\n",
       "    <tr>\n",
       "      <th>4</th>\n",
       "      <td>5</td>\n",
       "      <td>0</td>\n",
       "      <td>3</td>\n",
       "      <td>Allen, Mr. William Henry</td>\n",
       "      <td>male</td>\n",
       "      <td>35.0</td>\n",
       "      <td>0</td>\n",
       "      <td>0</td>\n",
       "      <td>373450</td>\n",
       "      <td>8.0500</td>\n",
       "      <td>NaN</td>\n",
       "      <td>S</td>\n",
       "    </tr>\n",
       "  </tbody>\n",
       "</table>\n",
       "</div>"
      ],
      "text/plain": [
       "   PassengerId  Survived  Pclass  \\\n",
       "0            1         0       3   \n",
       "1            2         1       1   \n",
       "2            3         1       3   \n",
       "3            4         1       1   \n",
       "4            5         0       3   \n",
       "\n",
       "                                                Name     Sex   Age  SibSp  \\\n",
       "0                            Braund, Mr. Owen Harris    male  22.0      1   \n",
       "1  Cumings, Mrs. John Bradley (Florence Briggs Th...  female  38.0      1   \n",
       "2                             Heikkinen, Miss. Laina  female  26.0      0   \n",
       "3       Futrelle, Mrs. Jacques Heath (Lily May Peel)  female  35.0      1   \n",
       "4                           Allen, Mr. William Henry    male  35.0      0   \n",
       "\n",
       "   Parch            Ticket     Fare Cabin Embarked  \n",
       "0      0         A/5 21171   7.2500   NaN        S  \n",
       "1      0          PC 17599  71.2833   C85        C  \n",
       "2      0  STON/O2. 3101282   7.9250   NaN        S  \n",
       "3      0            113803  53.1000  C123        S  \n",
       "4      0            373450   8.0500   NaN        S  "
      ]
     },
     "execution_count": 3,
     "metadata": {},
     "output_type": "execute_result"
    }
   ],
   "source": [
    "#display few lines\n",
    "df.head()"
   ]
  },
  {
   "cell_type": "markdown",
   "id": "85ff914f",
   "metadata": {},
   "source": [
    "## Data Wrangling"
   ]
  },
  {
   "cell_type": "code",
   "execution_count": 4,
   "id": "fec672b8",
   "metadata": {},
   "outputs": [
    {
     "data": {
      "text/plain": [
       "(891, 12)"
      ]
     },
     "execution_count": 4,
     "metadata": {},
     "output_type": "execute_result"
    }
   ],
   "source": [
    "#understanding the shape\n",
    "df.shape"
   ]
  },
  {
   "cell_type": "markdown",
   "id": "16a4fc16",
   "metadata": {},
   "source": [
    "- There are 891 passengers in the training set"
   ]
  },
  {
   "cell_type": "code",
   "execution_count": 5,
   "id": "dbb00914",
   "metadata": {},
   "outputs": [
    {
     "data": {
      "text/plain": [
       "0"
      ]
     },
     "execution_count": 5,
     "metadata": {},
     "output_type": "execute_result"
    }
   ],
   "source": [
    "#check for duplicates\n",
    "df.duplicated().sum()"
   ]
  },
  {
   "cell_type": "markdown",
   "id": "f7e4cca3",
   "metadata": {},
   "source": [
    "- There are no duplicates"
   ]
  },
  {
   "cell_type": "code",
   "execution_count": 6,
   "id": "21dec794",
   "metadata": {},
   "outputs": [
    {
     "data": {
      "text/plain": [
       "PassengerId      0\n",
       "Survived         0\n",
       "Pclass           0\n",
       "Name             0\n",
       "Sex              0\n",
       "Age            177\n",
       "SibSp            0\n",
       "Parch            0\n",
       "Ticket           0\n",
       "Fare             0\n",
       "Cabin          687\n",
       "Embarked         2\n",
       "dtype: int64"
      ]
     },
     "execution_count": 6,
     "metadata": {},
     "output_type": "execute_result"
    }
   ],
   "source": [
    "#check for missing values\n",
    "df.isna().sum()"
   ]
  },
  {
   "cell_type": "markdown",
   "id": "aadf88fc",
   "metadata": {},
   "source": [
    "- There are 177 missing values in age\n",
    "- There are 687 missing values in Cabin\n",
    "- There are 2 missing values in Embarked"
   ]
  },
  {
   "cell_type": "code",
   "execution_count": 7,
   "id": "40dfb9e2",
   "metadata": {},
   "outputs": [
    {
     "data": {
      "text/plain": [
       "PassengerId      int64\n",
       "Survived         int64\n",
       "Pclass           int64\n",
       "Name            object\n",
       "Sex             object\n",
       "Age            float64\n",
       "SibSp            int64\n",
       "Parch            int64\n",
       "Ticket          object\n",
       "Fare           float64\n",
       "Cabin           object\n",
       "Embarked        object\n",
       "dtype: object"
      ]
     },
     "execution_count": 7,
     "metadata": {},
     "output_type": "execute_result"
    }
   ],
   "source": [
    "#check for datatypes\n",
    "df.dtypes"
   ]
  },
  {
   "cell_type": "code",
   "execution_count": 8,
   "id": "c7558400",
   "metadata": {},
   "outputs": [
    {
     "data": {
      "text/plain": [
       "0    549\n",
       "1    342\n",
       "Name: Survived, dtype: int64"
      ]
     },
     "execution_count": 8,
     "metadata": {},
     "output_type": "execute_result"
    }
   ],
   "source": [
    "#checking for unique values\n",
    "df['Survived'].value_counts()"
   ]
  },
  {
   "cell_type": "code",
   "execution_count": 9,
   "id": "6d046b42",
   "metadata": {},
   "outputs": [
    {
     "data": {
      "text/plain": [
       "3    491\n",
       "1    216\n",
       "2    184\n",
       "Name: Pclass, dtype: int64"
      ]
     },
     "execution_count": 9,
     "metadata": {},
     "output_type": "execute_result"
    }
   ],
   "source": [
    "df['Pclass'].value_counts()"
   ]
  },
  {
   "cell_type": "code",
   "execution_count": 10,
   "id": "f83ce96a",
   "metadata": {},
   "outputs": [
    {
     "data": {
      "text/plain": [
       "male      577\n",
       "female    314\n",
       "Name: Sex, dtype: int64"
      ]
     },
     "execution_count": 10,
     "metadata": {},
     "output_type": "execute_result"
    }
   ],
   "source": [
    "df['Sex'].value_counts()"
   ]
  },
  {
   "cell_type": "code",
   "execution_count": 11,
   "id": "44f19801",
   "metadata": {},
   "outputs": [
    {
     "data": {
      "text/plain": [
       "0    608\n",
       "1    209\n",
       "2     28\n",
       "4     18\n",
       "3     16\n",
       "8      7\n",
       "5      5\n",
       "Name: SibSp, dtype: int64"
      ]
     },
     "execution_count": 11,
     "metadata": {},
     "output_type": "execute_result"
    }
   ],
   "source": [
    "df['SibSp'].value_counts()"
   ]
  },
  {
   "cell_type": "code",
   "execution_count": 12,
   "id": "de052d2a",
   "metadata": {},
   "outputs": [
    {
     "data": {
      "text/plain": [
       "0    678\n",
       "1    118\n",
       "2     80\n",
       "5      5\n",
       "3      5\n",
       "4      4\n",
       "6      1\n",
       "Name: Parch, dtype: int64"
      ]
     },
     "execution_count": 12,
     "metadata": {},
     "output_type": "execute_result"
    }
   ],
   "source": [
    "df['Parch'].value_counts()"
   ]
  },
  {
   "cell_type": "code",
   "execution_count": 13,
   "id": "79d24e9f",
   "metadata": {},
   "outputs": [
    {
     "data": {
      "text/plain": [
       "S    644\n",
       "C    168\n",
       "Q     77\n",
       "Name: Embarked, dtype: int64"
      ]
     },
     "execution_count": 13,
     "metadata": {},
     "output_type": "execute_result"
    }
   ],
   "source": [
    "df['Embarked'].value_counts()"
   ]
  },
  {
   "cell_type": "markdown",
   "id": "ca2b85b6",
   "metadata": {},
   "source": [
    "## Data Exploration"
   ]
  },
  {
   "cell_type": "markdown",
   "id": "d721b1c2",
   "metadata": {},
   "source": [
    "### Univariate Exploration"
   ]
  },
  {
   "cell_type": "markdown",
   "id": "f5de1a72",
   "metadata": {},
   "source": [
    "#### Distribution of Gender and Survived"
   ]
  },
  {
   "cell_type": "code",
   "execution_count": 14,
   "id": "fcb2bb15",
   "metadata": {
    "code_folding": []
   },
   "outputs": [
    {
     "data": {
      "image/png": "[encoded data removed]",
      "text/plain": [
       "<Figure size 1200x500 with 2 Axes>"
      ]
     },
     "metadata": {},
     "output_type": "display_data"
    }
   ],
   "source": [
    "#plotting a bar chart of Gender and Survived\n",
    "\n",
    "#convert the survived to category and map it to text\n",
    "survived = df['Survived'].astype('category')\n",
    "survived = survived.map({0: 'Not Survived', 1: 'Survived'})\n",
    "\n",
    "fig, ax = plt.subplots(1, 2, figsize=[12,5])\n",
    "ax[0].bar(x=df['Sex'].value_counts().index, height=df['Sex'].value_counts().values)\n",
    "ax[1].bar(x=survived.value_counts().index, height=survived.value_counts().values)\n",
    "\n",
    "#set title\n",
    "ax[0].set_title('Gender distribution')\n",
    "ax[1].set_title('Survival distribution')\n",
    "\n",
    "#set x_label\n",
    "ax[0].set_xlabel('Gender')\n",
    "ax[1].set_xlabel('Survival')\n",
    "\n",
    "#remove spines\n",
    "ax[0].spines[['top', 'left', 'right']].set_visible(False)\n",
    "ax[1].spines[['top', 'left', 'right']].set_visible(False)\n",
    "\n",
    "#remove yaxis\n",
    "ax[0].yaxis.set_visible(False)\n",
    "ax[1].yaxis.set_visible(False)\n",
    "\n",
    "#add annotation\n",
    "for index, values in enumerate(df['Sex'].value_counts()):\n",
    "    ax[0].annotate(str(round((values/len(df['Sex']))*100, 1))+'%', xy=(index, values+9), ha='center', va='center')\n",
    "\n",
    "for index, values in enumerate(df['Survived'].value_counts()):\n",
    "    ax[1].annotate(str(round((values/len(survived))*100, 1))+'%', xy=(index, values+9), ha='center', va='center')\n",
    "    \n",
    "plt.show()"
   ]
  },
  {
   "cell_type": "markdown",
   "id": "a8397133",
   "metadata": {},
   "source": [
    "- The titanic had about 65% of male passenger and 35% female passenger\n",
    "- About 62% of the passengers did not survived whilw 38% survived"
   ]
  },
  {
   "cell_type": "markdown",
   "id": "3dcd8d2b",
   "metadata": {},
   "source": [
    "#### Age Distribution"
   ]
  },
  {
   "cell_type": "code",
   "execution_count": 16,
   "id": "23c35663",
   "metadata": {
    "code_folding": []
   },
   "outputs": [],
   "source": [
    "#preprocessing age\n",
    "age_median = df['Age'].median()\n",
    "df['Age'] = df['Age'].fillna(age_median)\n",
    "\n",
    "#round the age and convert to integer\n",
    "df['Age'] = df['Age'].round(0).astype('int')"
   ]
  },
  {
   "cell_type": "code",
   "execution_count": 17,
   "id": "5fc30828",
   "metadata": {
    "code_folding": []
   },
   "outputs": [
    {
     "data": {
      "text/plain": [
       "28    204\n",
       "24     32\n",
       "22     27\n",
       "30     27\n",
       "18     26\n",
       "     ... \n",
       "0       1\n",
       "12      1\n",
       "53      1\n",
       "66      1\n",
       "74      1\n",
       "Name: Age, Length: 71, dtype: int64"
      ]
     },
     "execution_count": 17,
     "metadata": {},
     "output_type": "execute_result"
    }
   ],
   "source": [
    "#checking the value counts of Age\n",
    "df['Age'].value_counts()"
   ]
  },
  {
   "cell_type": "code",
   "execution_count": 19,
   "id": "c2c8e29f",
   "metadata": {
    "code_folding": [],
    "scrolled": true
   },
   "outputs": [],
   "source": [
    "#creating a age bucket group\n",
    "\n",
    "age_buc = []\n",
    "for a in df['Age'].values:\n",
    "    if a <=12:\n",
    "        age_buc.append('Child')\n",
    "    elif a>12 and a<=18:\n",
    "        age_buc.append('Teenage')\n",
    "    elif a>18 and a<25:\n",
    "        age_buc.append('Young Adult')\n",
    "    elif a>=25 and a<45:\n",
    "        age_buc.append('Adult')\n",
    "    elif a>=45 and a<65:\n",
    "        age_buc.append('Middle Aged Adult')\n",
    "    elif a>=65:\n",
    "        age_buc.append('Elderly')"
   ]
  },
  {
   "cell_type": "code",
   "execution_count": 20,
   "id": "15ce97e9",
   "metadata": {
    "code_folding": []
   },
   "outputs": [],
   "source": [
    "#creating the column age_group\n",
    "df['Age_group'] = age_buc"
   ]
  },
  {
   "cell_type": "code",
   "execution_count": 21,
   "id": "b7cfddaf",
   "metadata": {
    "code_folding": []
   },
   "outputs": [
    {
     "data": {
      "image/png": "[encoded data removed]",
      "text/plain": [
       "<Figure size 700x500 with 1 Axes>"
      ]
     },
     "metadata": {},
     "output_type": "display_data"
    }
   ],
   "source": [
    "# Plotting the distribution of Age Group\n",
    "\n",
    "fig, ax = plt.subplots(figsize=[7,5])\n",
    "ax.bar(x=df['Age_group'].value_counts().index, height=df['Age_group'].value_counts().values)\n",
    "\n",
    "#add title\n",
    "ax.set_title('distribution of the age groups')\n",
    "ax.set_xlabel('Age Groups')\n",
    "ax.spines[['top', 'right', 'left']].set_visible(False)\n",
    "\n",
    "\n",
    "#remove yaxis\n",
    "ax.yaxis.set_visible(False)\n",
    "\n",
    "#add annotation\n",
    "for index, values in enumerate(df['Age_group'].value_counts()):\n",
    "    ax.annotate(str(round((values/len(df['Age_group']))*100, 1))+'%', xy=(index, values+10), ha='center', va='center')\n",
    "\n",
    "\n",
    "#rotate the ticks\n",
    "ax.xaxis.set_tick_params(rotation=45)\n",
    "\n",
    "plt.show()"
   ]
  },
  {
   "cell_type": "markdown",
   "id": "97ce2e5b",
   "metadata": {},
   "source": [
    "- About 56% of the passengers were **Adults** i.e. between (25 - 45) years, followed by **young adults**(19 - 24) which is about 16% and **Middle Aged Adult**(45 - 64) which is about 12 %. Other age group were less than 10%"
   ]
  },
  {
   "cell_type": "markdown",
   "id": "5af91039",
   "metadata": {},
   "source": [
    "#### Distribution of Embarked and Passenger Class"
   ]
  },
  {
   "cell_type": "code",
   "execution_count": 22,
   "id": "b8ae664a",
   "metadata": {
    "code_folding": []
   },
   "outputs": [
    {
     "data": {
      "image/png": "[encoded data removed]",
      "text/plain": [
       "<Figure size 1200x500 with 2 Axes>"
      ]
     },
     "metadata": {},
     "output_type": "display_data"
    }
   ],
   "source": [
    "# plotting the distribution of Embarked and Pclass\n",
    "\n",
    "#mapping the letters in embarked to their name\n",
    "Embarked = df['Embarked'].map({'S':'Southampthon', 'Q': 'Queenstown', 'C': 'Cherbourg'})\n",
    "\n",
    "#converting the Pclass to category and mapping it to text\n",
    "Pclass = df['Pclass'].astype('category')\n",
    "Pclass = Pclass.map({1: '1st Class', 2: '2nd Class', 3: '3rd Class'})\n",
    "\n",
    "#plotting the embarked and pclass\n",
    "fig, ax = plt.subplots(1, 2, figsize=[12,5])\n",
    "ax[0].bar(x=Embarked.value_counts().index, height=Embarked.value_counts().values)\n",
    "ax[1].bar(x=Pclass.value_counts().sort_index().index, height=Pclass.value_counts().sort_index().values)\n",
    "\n",
    "#set title\n",
    "ax[0].set_title('Distribution of Embarked')\n",
    "ax[1].set_title('Distribution of Passenger Class')\n",
    "\n",
    "#set x_label\n",
    "ax[0].set_xlabel('Embarked')\n",
    "ax[1].set_xlabel('Passenger Class')\n",
    "\n",
    "#remove spines\n",
    "ax[0].spines[['top', 'left', 'right']].set_visible(False)\n",
    "ax[1].spines[['top', 'left', 'right']].set_visible(False)\n",
    "\n",
    "\n",
    "#remove yaxis\n",
    "ax[0].yaxis.set_visible(False)\n",
    "ax[1].yaxis.set_visible(False)\n",
    "\n",
    "#add annotation\n",
    "for index, values in enumerate(Embarked.value_counts()):\n",
    "    ax[0].annotate(str(round((values/len(Embarked))*100, 1))+'%', xy=(index, values+10), ha='center', va='center')\n",
    "\n",
    "for index, values in enumerate(Pclass.value_counts().sort_index()):\n",
    "    ax[1].annotate(str(round((values/len(Pclass))*100, 1))+'%', xy=(index, values+10), ha='center', va='center')\n",
    "\n",
    "\n",
    "plt.show()"
   ]
  },
  {
   "cell_type": "markdown",
   "id": "09233963",
   "metadata": {},
   "source": [
    "- Majority of the passengers, about 72% boarded the titanic at Southampton\n",
    "- 55% of the passengers paid for the third class ticket, which passengers for first class and second class were less than 25%"
   ]
  },
  {
   "cell_type": "markdown",
   "id": "3a86e1a0",
   "metadata": {},
   "source": [
    "## Bivariate Exploration"
   ]
  },
  {
   "cell_type": "markdown",
   "id": "8115cf5d",
   "metadata": {},
   "source": [
    "#### Exploring Gender and Survival"
   ]
  },
  {
   "cell_type": "code",
   "execution_count": 103,
   "id": "aec97fc5",
   "metadata": {},
   "outputs": [
    {
     "data": {
      "text/html": [
       "<div>\n",
       "<style scoped>\n",
       "    .dataframe tbody tr th:only-of-type {\n",
       "        vertical-align: middle;\n",
       "    }\n",
       "\n",
       "    .dataframe tbody tr th {\n",
       "        vertical-align: top;\n",
       "    }\n",
       "\n",
       "    .dataframe thead th {\n",
       "        text-align: right;\n",
       "    }\n",
       "</style>\n",
       "<table border=\"1\" class=\"dataframe\">\n",
       "  <thead>\n",
       "    <tr style=\"text-align: right;\">\n",
       "      <th></th>\n",
       "      <th></th>\n",
       "      <th>count</th>\n",
       "    </tr>\n",
       "    <tr>\n",
       "      <th>Sex</th>\n",
       "      <th>Survived</th>\n",
       "      <th></th>\n",
       "    </tr>\n",
       "  </thead>\n",
       "  <tbody>\n",
       "    <tr>\n",
       "      <th rowspan=\"2\" valign=\"top\">female</th>\n",
       "      <th>0</th>\n",
       "      <td>81</td>\n",
       "    </tr>\n",
       "    <tr>\n",
       "      <th>1</th>\n",
       "      <td>233</td>\n",
       "    </tr>\n",
       "    <tr>\n",
       "      <th rowspan=\"2\" valign=\"top\">male</th>\n",
       "      <th>0</th>\n",
       "      <td>468</td>\n",
       "    </tr>\n",
       "    <tr>\n",
       "      <th>1</th>\n",
       "      <td>109</td>\n",
       "    </tr>\n",
       "  </tbody>\n",
       "</table>\n",
       "</div>"
      ],
      "text/plain": [
       "                 count\n",
       "Sex    Survived       \n",
       "female 0            81\n",
       "       1           233\n",
       "male   0           468\n",
       "       1           109"
      ]
     },
     "execution_count": 103,
     "metadata": {},
     "output_type": "execute_result"
    }
   ],
   "source": [
    "#count of passengers that survived or not by their gender\n",
    "df.groupby(['Sex', 'Survived']).agg(count= ('Survived', 'count'))"
   ]
  },
  {
   "cell_type": "code",
   "execution_count": 23,
   "id": "bac4b48f",
   "metadata": {
    "code_folding": []
   },
   "outputs": [
    {
     "data": {
      "image/png": "[encoded data removed]",
      "text/plain": [
       "<Figure size 1200x500 with 2 Axes>"
      ]
     },
     "metadata": {},
     "output_type": "display_data"
    }
   ],
   "source": [
    "#plotting Sex and Survived\n",
    "\n",
    "fig, ax = plt.subplots(1, 2, figsize=[12,5])\n",
    "\n",
    "sns.countplot(data=df, x='Sex', hue='Survived', ax=ax[0])\n",
    "sns.countplot(data=df, x='Pclass', hue='Survived', ax=ax[1])\n",
    "\n",
    "#add title\n",
    "ax[0].set_title('Survival distribution of the gender')\n",
    "ax[0].set_xlabel('Gender')\n",
    "ax[0].spines[['top', 'right']].set_visible(False)\n",
    "\n",
    "\n",
    "#add title\n",
    "ax[1].set_title('Survival distribution of the Passenger class')\n",
    "ax[1].set_xlabel('Pclass')\n",
    "ax[1].spines[['top', 'right']].set_visible(False)\n",
    "\n",
    "\n",
    "plt.show()"
   ]
  },
  {
   "cell_type": "markdown",
   "id": "f2ca8cf2",
   "metadata": {},
   "source": [
    "- This plot shows that majority of the male passenger(about 468) did not survived while 109 male passengers survived\n",
    "- 233 females survived while about 81 of them did not"
   ]
  },
  {
   "cell_type": "code",
   "execution_count": 26,
   "id": "6f7e0807",
   "metadata": {
    "code_folding": []
   },
   "outputs": [
    {
     "data": {
      "image/png": "[encoded data removed]",
      "text/plain": [
       "<Figure size 700x500 with 1 Axes>"
      ]
     },
     "metadata": {},
     "output_type": "display_data"
    }
   ],
   "source": [
    "#plotting the distribution of Age group and Survived\n",
    "fig, ax = plt.subplots(figsize=[7,5])\n",
    "\n",
    "sns.countplot(data=df, x='Age_group', hue='Survived')\n",
    "\n",
    "\n",
    "#add title\n",
    "ax.set_title('Survival distribution of the age groups')\n",
    "ax.set_xlabel('Age Groups')\n",
    "ax.spines[['top', 'right', 'left']].set_visible(False)\n",
    "\n",
    "\n",
    "\n",
    "#rotate the ticks\n",
    "ax.xaxis.set_tick_params(rotation=45)\n",
    "\n",
    "plt.show()\n"
   ]
  },
  {
   "cell_type": "markdown",
   "id": "b220c9d9",
   "metadata": {},
   "source": [
    "### Percentage of Age_Group that Survived"
   ]
  },
  {
   "cell_type": "code",
   "execution_count": 27,
   "id": "0aabd53b",
   "metadata": {},
   "outputs": [
    {
     "data": {
      "text/html": [
       "<div>\n",
       "<style scoped>\n",
       "    .dataframe tbody tr th:only-of-type {\n",
       "        vertical-align: middle;\n",
       "    }\n",
       "\n",
       "    .dataframe tbody tr th {\n",
       "        vertical-align: top;\n",
       "    }\n",
       "\n",
       "    .dataframe thead th {\n",
       "        text-align: right;\n",
       "    }\n",
       "</style>\n",
       "<table border=\"1\" class=\"dataframe\">\n",
       "  <thead>\n",
       "    <tr style=\"text-align: right;\">\n",
       "      <th></th>\n",
       "      <th>total</th>\n",
       "    </tr>\n",
       "    <tr>\n",
       "      <th>Age_group</th>\n",
       "      <th></th>\n",
       "    </tr>\n",
       "  </thead>\n",
       "  <tbody>\n",
       "    <tr>\n",
       "      <th>Adult</th>\n",
       "      <td>181</td>\n",
       "    </tr>\n",
       "    <tr>\n",
       "      <th>Child</th>\n",
       "      <td>40</td>\n",
       "    </tr>\n",
       "    <tr>\n",
       "      <th>Elderly</th>\n",
       "      <td>1</td>\n",
       "    </tr>\n",
       "    <tr>\n",
       "      <th>Middle Aged Adult</th>\n",
       "      <td>42</td>\n",
       "    </tr>\n",
       "    <tr>\n",
       "      <th>Teenage</th>\n",
       "      <td>30</td>\n",
       "    </tr>\n",
       "    <tr>\n",
       "      <th>Young Adult</th>\n",
       "      <td>48</td>\n",
       "    </tr>\n",
       "  </tbody>\n",
       "</table>\n",
       "</div>"
      ],
      "text/plain": [
       "                   total\n",
       "Age_group               \n",
       "Adult                181\n",
       "Child                 40\n",
       "Elderly                1\n",
       "Middle Aged Adult     42\n",
       "Teenage               30\n",
       "Young Adult           48"
      ]
     },
     "execution_count": 27,
     "metadata": {},
     "output_type": "execute_result"
    }
   ],
   "source": [
    "#filter the passengers that survived\n",
    "df_survived = df.query(\"Survived==1\").groupby(['Age_group']).agg(total=('Survived', 'count'))\n",
    "df_survived"
   ]
  },
  {
   "cell_type": "code",
   "execution_count": 41,
   "id": "f9e7c49a",
   "metadata": {
    "code_folding": []
   },
   "outputs": [
    {
     "data": {
      "image/png": "[encoded data removed]",
      "text/plain": [
       "<Figure size 700x500 with 1 Axes>"
      ]
     },
     "metadata": {},
     "output_type": "display_data"
    }
   ],
   "source": [
    "# Plotting the distribution of Age Group\n",
    "\n",
    "fig, ax = plt.subplots(figsize=[7,5])\n",
    "ax.bar(x=df_survived.index, height=df_survived['total'].values)\n",
    "\n",
    "#add title\n",
    "ax.set_title('% distribution of the age groups that survived')\n",
    "ax.set_xlabel('Age Groups')\n",
    "ax.spines[['top', 'right', 'left']].set_visible(False)\n",
    "\n",
    "\n",
    "#remove yaxis\n",
    "ax.yaxis.set_visible(False)\n",
    "\n",
    "#add annotation\n",
    "for index, values in enumerate(df_survived['total'].values):\n",
    "    ax.annotate(str(round((values/df_survived['total'].sum())*100, 1))+'%', xy=(index, values+3), ha='center', va='center')\n",
    "\n",
    "\n",
    "#rotate the ticks\n",
    "ax.xaxis.set_tick_params(rotation=45)\n",
    "\n",
    "plt.show()"
   ]
  },
  {
   "cell_type": "markdown",
   "id": "e8539198",
   "metadata": {},
   "source": [
    "## Data Preprocessing"
   ]
  },
  {
   "cell_type": "code",
   "execution_count": 42,
   "id": "1ef26e02",
   "metadata": {},
   "outputs": [],
   "source": [
    "#make a copy of the dataset\n",
    "df1 = df.copy()"
   ]
  },
  {
   "cell_type": "code",
   "execution_count": 43,
   "id": "e02f13c9",
   "metadata": {},
   "outputs": [],
   "source": [
    "#dropping unnecessary columns\n",
    "df1.drop(['PassengerId', 'Name', 'Ticket', 'Fare', 'Cabin', 'Age_group', 'Embarked'], axis=1, inplace=True)"
   ]
  },
  {
   "cell_type": "code",
   "execution_count": 44,
   "id": "7ff65e63",
   "metadata": {},
   "outputs": [
    {
     "data": {
      "text/html": [
       "<div>\n",
       "<style scoped>\n",
       "    .dataframe tbody tr th:only-of-type {\n",
       "        vertical-align: middle;\n",
       "    }\n",
       "\n",
       "    .dataframe tbody tr th {\n",
       "        vertical-align: top;\n",
       "    }\n",
       "\n",
       "    .dataframe thead th {\n",
       "        text-align: right;\n",
       "    }\n",
       "</style>\n",
       "<table border=\"1\" class=\"dataframe\">\n",
       "  <thead>\n",
       "    <tr style=\"text-align: right;\">\n",
       "      <th></th>\n",
       "      <th>Survived</th>\n",
       "      <th>Pclass</th>\n",
       "      <th>Sex</th>\n",
       "      <th>Age</th>\n",
       "      <th>SibSp</th>\n",
       "      <th>Parch</th>\n",
       "    </tr>\n",
       "  </thead>\n",
       "  <tbody>\n",
       "    <tr>\n",
       "      <th>0</th>\n",
       "      <td>0</td>\n",
       "      <td>3</td>\n",
       "      <td>male</td>\n",
       "      <td>22</td>\n",
       "      <td>1</td>\n",
       "      <td>0</td>\n",
       "    </tr>\n",
       "    <tr>\n",
       "      <th>1</th>\n",
       "      <td>1</td>\n",
       "      <td>1</td>\n",
       "      <td>female</td>\n",
       "      <td>38</td>\n",
       "      <td>1</td>\n",
       "      <td>0</td>\n",
       "    </tr>\n",
       "    <tr>\n",
       "      <th>2</th>\n",
       "      <td>1</td>\n",
       "      <td>3</td>\n",
       "      <td>female</td>\n",
       "      <td>26</td>\n",
       "      <td>0</td>\n",
       "      <td>0</td>\n",
       "    </tr>\n",
       "    <tr>\n",
       "      <th>3</th>\n",
       "      <td>1</td>\n",
       "      <td>1</td>\n",
       "      <td>female</td>\n",
       "      <td>35</td>\n",
       "      <td>1</td>\n",
       "      <td>0</td>\n",
       "    </tr>\n",
       "    <tr>\n",
       "      <th>4</th>\n",
       "      <td>0</td>\n",
       "      <td>3</td>\n",
       "      <td>male</td>\n",
       "      <td>35</td>\n",
       "      <td>0</td>\n",
       "      <td>0</td>\n",
       "    </tr>\n",
       "  </tbody>\n",
       "</table>\n",
       "</div>"
      ],
      "text/plain": [
       "   Survived  Pclass     Sex  Age  SibSp  Parch\n",
       "0         0       3    male   22      1      0\n",
       "1         1       1  female   38      1      0\n",
       "2         1       3  female   26      0      0\n",
       "3         1       1  female   35      1      0\n",
       "4         0       3    male   35      0      0"
      ]
     },
     "execution_count": 44,
     "metadata": {},
     "output_type": "execute_result"
    }
   ],
   "source": [
    "#checking the dataframe\n",
    "df1.head()"
   ]
  },
  {
   "cell_type": "markdown",
   "id": "9eac2fc4",
   "metadata": {},
   "source": [
    "### Import the libraries"
   ]
  },
  {
   "cell_type": "code",
   "execution_count": 45,
   "id": "31a8f757",
   "metadata": {},
   "outputs": [],
   "source": [
    "#import the modules\n",
    "from sklearn.model_selection import train_test_split, cross_val_score, GridSearchCV\n",
    "from sklearn.compose import ColumnTransformer\n",
    "from sklearn.linear_model import LogisticRegression\n",
    "from sklearn.ensemble import RandomForestClassifier\n",
    "from sklearn.preprocessing import StandardScaler\n",
    "from sklearn.svm import SVC\n",
    "from sklearn.tree import DecisionTreeClassifier\n",
    "from sklearn.naive_bayes import GaussianNB\n",
    "from sklearn.neighbors import KNeighborsClassifier as KNN\n",
    "from sklearn.metrics import classification_report, precision_score, f1_score, accuracy_score, recall_score\n",
    "from sklearn.metrics import confusion_matrix, ConfusionMatrixDisplay, RocCurveDisplay\n",
    "from sklearn.feature_selection import SelectKBest, chi2\n",
    "from xgboost import XGBClassifier"
   ]
  },
  {
   "cell_type": "markdown",
   "id": "7eb773f6",
   "metadata": {},
   "source": [
    "### Map the Sex column to integer"
   ]
  },
  {
   "cell_type": "code",
   "execution_count": 46,
   "id": "5aad5a15",
   "metadata": {},
   "outputs": [],
   "source": [
    "#map the category 'Sex' to integer\n",
    "df1['Sex'] = df1['Sex'].map({'female': 0, 'male': 1})"
   ]
  },
  {
   "cell_type": "code",
   "execution_count": 47,
   "id": "5861f340",
   "metadata": {},
   "outputs": [
    {
     "data": {
      "text/html": [
       "<div>\n",
       "<style scoped>\n",
       "    .dataframe tbody tr th:only-of-type {\n",
       "        vertical-align: middle;\n",
       "    }\n",
       "\n",
       "    .dataframe tbody tr th {\n",
       "        vertical-align: top;\n",
       "    }\n",
       "\n",
       "    .dataframe thead th {\n",
       "        text-align: right;\n",
       "    }\n",
       "</style>\n",
       "<table border=\"1\" class=\"dataframe\">\n",
       "  <thead>\n",
       "    <tr style=\"text-align: right;\">\n",
       "      <th></th>\n",
       "      <th>Survived</th>\n",
       "      <th>Pclass</th>\n",
       "      <th>Sex</th>\n",
       "      <th>Age</th>\n",
       "      <th>SibSp</th>\n",
       "      <th>Parch</th>\n",
       "    </tr>\n",
       "  </thead>\n",
       "  <tbody>\n",
       "    <tr>\n",
       "      <th>0</th>\n",
       "      <td>0</td>\n",
       "      <td>3</td>\n",
       "      <td>1</td>\n",
       "      <td>22</td>\n",
       "      <td>1</td>\n",
       "      <td>0</td>\n",
       "    </tr>\n",
       "    <tr>\n",
       "      <th>1</th>\n",
       "      <td>1</td>\n",
       "      <td>1</td>\n",
       "      <td>0</td>\n",
       "      <td>38</td>\n",
       "      <td>1</td>\n",
       "      <td>0</td>\n",
       "    </tr>\n",
       "    <tr>\n",
       "      <th>2</th>\n",
       "      <td>1</td>\n",
       "      <td>3</td>\n",
       "      <td>0</td>\n",
       "      <td>26</td>\n",
       "      <td>0</td>\n",
       "      <td>0</td>\n",
       "    </tr>\n",
       "    <tr>\n",
       "      <th>3</th>\n",
       "      <td>1</td>\n",
       "      <td>1</td>\n",
       "      <td>0</td>\n",
       "      <td>35</td>\n",
       "      <td>1</td>\n",
       "      <td>0</td>\n",
       "    </tr>\n",
       "    <tr>\n",
       "      <th>4</th>\n",
       "      <td>0</td>\n",
       "      <td>3</td>\n",
       "      <td>1</td>\n",
       "      <td>35</td>\n",
       "      <td>0</td>\n",
       "      <td>0</td>\n",
       "    </tr>\n",
       "  </tbody>\n",
       "</table>\n",
       "</div>"
      ],
      "text/plain": [
       "   Survived  Pclass  Sex  Age  SibSp  Parch\n",
       "0         0       3    1   22      1      0\n",
       "1         1       1    0   38      1      0\n",
       "2         1       3    0   26      0      0\n",
       "3         1       1    0   35      1      0\n",
       "4         0       3    1   35      0      0"
      ]
     },
     "execution_count": 47,
     "metadata": {},
     "output_type": "execute_result"
    }
   ],
   "source": [
    "#display few lines\n",
    "df1.head()"
   ]
  },
  {
   "cell_type": "markdown",
   "id": "2f2c9a3a",
   "metadata": {},
   "source": [
    "### Selecting input features and target"
   ]
  },
  {
   "cell_type": "code",
   "execution_count": 48,
   "id": "1d358d6a",
   "metadata": {},
   "outputs": [],
   "source": [
    "#select the input features\n",
    "X = df1.drop('Survived', axis=1)"
   ]
  },
  {
   "cell_type": "code",
   "execution_count": 49,
   "id": "54c4eabb",
   "metadata": {},
   "outputs": [],
   "source": [
    "#select the target \n",
    "y = df1['Survived']"
   ]
  },
  {
   "cell_type": "code",
   "execution_count": 50,
   "id": "d0725910",
   "metadata": {},
   "outputs": [
    {
     "data": {
      "text/html": [
       "<div>\n",
       "<style scoped>\n",
       "    .dataframe tbody tr th:only-of-type {\n",
       "        vertical-align: middle;\n",
       "    }\n",
       "\n",
       "    .dataframe tbody tr th {\n",
       "        vertical-align: top;\n",
       "    }\n",
       "\n",
       "    .dataframe thead th {\n",
       "        text-align: right;\n",
       "    }\n",
       "</style>\n",
       "<table border=\"1\" class=\"dataframe\">\n",
       "  <thead>\n",
       "    <tr style=\"text-align: right;\">\n",
       "      <th></th>\n",
       "      <th>Pclass</th>\n",
       "      <th>Sex</th>\n",
       "      <th>Age</th>\n",
       "      <th>SibSp</th>\n",
       "      <th>Parch</th>\n",
       "    </tr>\n",
       "  </thead>\n",
       "  <tbody>\n",
       "    <tr>\n",
       "      <th>0</th>\n",
       "      <td>3</td>\n",
       "      <td>1</td>\n",
       "      <td>22</td>\n",
       "      <td>1</td>\n",
       "      <td>0</td>\n",
       "    </tr>\n",
       "    <tr>\n",
       "      <th>1</th>\n",
       "      <td>1</td>\n",
       "      <td>0</td>\n",
       "      <td>38</td>\n",
       "      <td>1</td>\n",
       "      <td>0</td>\n",
       "    </tr>\n",
       "    <tr>\n",
       "      <th>2</th>\n",
       "      <td>3</td>\n",
       "      <td>0</td>\n",
       "      <td>26</td>\n",
       "      <td>0</td>\n",
       "      <td>0</td>\n",
       "    </tr>\n",
       "    <tr>\n",
       "      <th>3</th>\n",
       "      <td>1</td>\n",
       "      <td>0</td>\n",
       "      <td>35</td>\n",
       "      <td>1</td>\n",
       "      <td>0</td>\n",
       "    </tr>\n",
       "    <tr>\n",
       "      <th>4</th>\n",
       "      <td>3</td>\n",
       "      <td>1</td>\n",
       "      <td>35</td>\n",
       "      <td>0</td>\n",
       "      <td>0</td>\n",
       "    </tr>\n",
       "  </tbody>\n",
       "</table>\n",
       "</div>"
      ],
      "text/plain": [
       "   Pclass  Sex  Age  SibSp  Parch\n",
       "0       3    1   22      1      0\n",
       "1       1    0   38      1      0\n",
       "2       3    0   26      0      0\n",
       "3       1    0   35      1      0\n",
       "4       3    1   35      0      0"
      ]
     },
     "execution_count": 50,
     "metadata": {},
     "output_type": "execute_result"
    }
   ],
   "source": [
    "#display few lines of the input features\n",
    "X.head()"
   ]
  },
  {
   "cell_type": "code",
   "execution_count": 51,
   "id": "2e40f316",
   "metadata": {},
   "outputs": [
    {
     "data": {
      "text/plain": [
       "0    0\n",
       "1    1\n",
       "2    1\n",
       "3    1\n",
       "4    0\n",
       "Name: Survived, dtype: int64"
      ]
     },
     "execution_count": 51,
     "metadata": {},
     "output_type": "execute_result"
    }
   ],
   "source": [
    "#display few lines of the target\n",
    "y.head()"
   ]
  },
  {
   "cell_type": "markdown",
   "id": "2894ce5b",
   "metadata": {},
   "source": [
    "### Split the dataset"
   ]
  },
  {
   "cell_type": "code",
   "execution_count": 52,
   "id": "5c31a9f9",
   "metadata": {},
   "outputs": [],
   "source": [
    "#splitting the dataset\n",
    "X_train, X_test, y_train, y_test = train_test_split(X, y, test_size=0.2, random_state=42)"
   ]
  },
  {
   "cell_type": "code",
   "execution_count": 53,
   "id": "3999a7ff",
   "metadata": {},
   "outputs": [
    {
     "data": {
      "text/plain": [
       "(712, 5)"
      ]
     },
     "execution_count": 53,
     "metadata": {},
     "output_type": "execute_result"
    }
   ],
   "source": [
    "X_train.shape"
   ]
  },
  {
   "cell_type": "code",
   "execution_count": 54,
   "id": "9c56df8f",
   "metadata": {},
   "outputs": [
    {
     "data": {
      "text/plain": [
       "(712,)"
      ]
     },
     "execution_count": 54,
     "metadata": {},
     "output_type": "execute_result"
    }
   ],
   "source": [
    "y_train.shape"
   ]
  },
  {
   "cell_type": "code",
   "execution_count": 55,
   "id": "41dd67d2",
   "metadata": {},
   "outputs": [
    {
     "data": {
      "text/plain": [
       "(179, 5)"
      ]
     },
     "execution_count": 55,
     "metadata": {},
     "output_type": "execute_result"
    }
   ],
   "source": [
    "X_test.shape"
   ]
  },
  {
   "cell_type": "code",
   "execution_count": 56,
   "id": "a23e4c4a",
   "metadata": {},
   "outputs": [
    {
     "data": {
      "text/html": [
       "<div>\n",
       "<style scoped>\n",
       "    .dataframe tbody tr th:only-of-type {\n",
       "        vertical-align: middle;\n",
       "    }\n",
       "\n",
       "    .dataframe tbody tr th {\n",
       "        vertical-align: top;\n",
       "    }\n",
       "\n",
       "    .dataframe thead th {\n",
       "        text-align: right;\n",
       "    }\n",
       "</style>\n",
       "<table border=\"1\" class=\"dataframe\">\n",
       "  <thead>\n",
       "    <tr style=\"text-align: right;\">\n",
       "      <th></th>\n",
       "      <th>Pclass</th>\n",
       "      <th>Sex</th>\n",
       "      <th>Age</th>\n",
       "      <th>SibSp</th>\n",
       "      <th>Parch</th>\n",
       "    </tr>\n",
       "  </thead>\n",
       "  <tbody>\n",
       "    <tr>\n",
       "      <th>331</th>\n",
       "      <td>1</td>\n",
       "      <td>1</td>\n",
       "      <td>46</td>\n",
       "      <td>0</td>\n",
       "      <td>0</td>\n",
       "    </tr>\n",
       "    <tr>\n",
       "      <th>733</th>\n",
       "      <td>2</td>\n",
       "      <td>1</td>\n",
       "      <td>23</td>\n",
       "      <td>0</td>\n",
       "      <td>0</td>\n",
       "    </tr>\n",
       "    <tr>\n",
       "      <th>382</th>\n",
       "      <td>3</td>\n",
       "      <td>1</td>\n",
       "      <td>32</td>\n",
       "      <td>0</td>\n",
       "      <td>0</td>\n",
       "    </tr>\n",
       "    <tr>\n",
       "      <th>704</th>\n",
       "      <td>3</td>\n",
       "      <td>1</td>\n",
       "      <td>26</td>\n",
       "      <td>1</td>\n",
       "      <td>0</td>\n",
       "    </tr>\n",
       "    <tr>\n",
       "      <th>813</th>\n",
       "      <td>3</td>\n",
       "      <td>0</td>\n",
       "      <td>6</td>\n",
       "      <td>4</td>\n",
       "      <td>2</td>\n",
       "    </tr>\n",
       "  </tbody>\n",
       "</table>\n",
       "</div>"
      ],
      "text/plain": [
       "     Pclass  Sex  Age  SibSp  Parch\n",
       "331       1    1   46      0      0\n",
       "733       2    1   23      0      0\n",
       "382       3    1   32      0      0\n",
       "704       3    1   26      1      0\n",
       "813       3    0    6      4      2"
      ]
     },
     "execution_count": 56,
     "metadata": {},
     "output_type": "execute_result"
    }
   ],
   "source": [
    "X_train.head()"
   ]
  },
  {
   "cell_type": "markdown",
   "id": "c85f306c",
   "metadata": {},
   "source": [
    "### Standardizing the dataset"
   ]
  },
  {
   "cell_type": "code",
   "execution_count": 57,
   "id": "61c7c147",
   "metadata": {},
   "outputs": [],
   "source": [
    "#instantiate the scaler\n",
    "scaler = StandardScaler()"
   ]
  },
  {
   "cell_type": "code",
   "execution_count": 58,
   "id": "3b00f839",
   "metadata": {},
   "outputs": [],
   "source": [
    "#fit_transform the X_train\n",
    "X_train = scaler.fit_transform(X_train)"
   ]
  },
  {
   "cell_type": "code",
   "execution_count": 59,
   "id": "95e292db",
   "metadata": {},
   "outputs": [],
   "source": [
    "#transform the X_test\n",
    "X_test = scaler.transform(X_test)"
   ]
  },
  {
   "cell_type": "markdown",
   "id": "60d8b216",
   "metadata": {},
   "source": [
    "### Model Building"
   ]
  },
  {
   "cell_type": "code",
   "execution_count": 60,
   "id": "eae841ba",
   "metadata": {},
   "outputs": [],
   "source": [
    "#select the models\n",
    "\n",
    "models = {\n",
    "    'LogisticRegression':{\n",
    "        'model': LogisticRegression()\n",
    "    },\n",
    "    \n",
    "    'DecisionTree': {\n",
    "        'model': DecisionTreeClassifier()\n",
    "    },\n",
    "    \n",
    "    'RandomForest' : {\n",
    "        'model': RandomForestClassifier()\n",
    "    },\n",
    "    \n",
    "    'NaiveBayes': {\n",
    "        'model': GaussianNB()\n",
    "    },\n",
    "    \n",
    "    'SVM': {\n",
    "        'model': SVC()\n",
    "    },\n",
    "    \n",
    "    'KNN': {\n",
    "        'model': KNN()\n",
    "    },\n",
    "    \n",
    "    'xgboost': {\n",
    "        'model': XGBClassifier()\n",
    "    }\n",
    "    \n",
    "}"
   ]
  },
  {
   "cell_type": "code",
   "execution_count": 61,
   "id": "75c2bd68",
   "metadata": {},
   "outputs": [],
   "source": [
    "# create a function\n",
    "\n",
    "def train_model(models, X_train, y_train, X_test, y_test):\n",
    "    '''\n",
    "        This model takes the model, x_train, y_train and X_test and return accuracy, precision and recall scores\n",
    "    '''\n",
    "    \n",
    "    score = []\n",
    "    #create a for loop\n",
    "    \n",
    "    for model_name, mod in models.items():\n",
    "        #instantiate the model\n",
    "        model = mod['model']\n",
    "        \n",
    "        #fit the model\n",
    "        model.fit(X_train, y_train)\n",
    "        \n",
    "        #predict the y_test\n",
    "        y_pred = model.predict(X_test)\n",
    "        \n",
    "        #check the accuracy of the training\n",
    "        acc_score = accuracy_score(y_test, y_pred)\n",
    "        prec_score = precision_score(y_test, y_pred)\n",
    "        rec_score = recall_score(y_test, y_pred)\n",
    "        f_score = f1_score(y_test, y_pred)\n",
    "        \n",
    "        score.append({\n",
    "            'model_name': model_name,\n",
    "            'accuracy_score': acc_score.round(2),\n",
    "            'precision_score': prec_score.round(2),\n",
    "            'recall_score': rec_score.round(2),\n",
    "            'f1_score': f_score.round(2)\n",
    "        })\n",
    "    return score"
   ]
  },
  {
   "cell_type": "code",
   "execution_count": 62,
   "id": "0399b465",
   "metadata": {},
   "outputs": [],
   "source": [
    "#call the function train_model and pass the argument\n",
    "train_scores = train_model(models, X_train, y_train, X_test, y_test)"
   ]
  },
  {
   "cell_type": "code",
   "execution_count": 63,
   "id": "6bfbf41b",
   "metadata": {},
   "outputs": [
    {
     "data": {
      "text/html": [
       "<div>\n",
       "<style scoped>\n",
       "    .dataframe tbody tr th:only-of-type {\n",
       "        vertical-align: middle;\n",
       "    }\n",
       "\n",
       "    .dataframe tbody tr th {\n",
       "        vertical-align: top;\n",
       "    }\n",
       "\n",
       "    .dataframe thead th {\n",
       "        text-align: right;\n",
       "    }\n",
       "</style>\n",
       "<table border=\"1\" class=\"dataframe\">\n",
       "  <thead>\n",
       "    <tr style=\"text-align: right;\">\n",
       "      <th></th>\n",
       "      <th>model_name</th>\n",
       "      <th>accuracy_score</th>\n",
       "      <th>precision_score</th>\n",
       "      <th>recall_score</th>\n",
       "      <th>f1_score</th>\n",
       "    </tr>\n",
       "  </thead>\n",
       "  <tbody>\n",
       "    <tr>\n",
       "      <th>0</th>\n",
       "      <td>LogisticRegression</td>\n",
       "      <td>0.81</td>\n",
       "      <td>0.78</td>\n",
       "      <td>0.76</td>\n",
       "      <td>0.77</td>\n",
       "    </tr>\n",
       "    <tr>\n",
       "      <th>1</th>\n",
       "      <td>DecisionTree</td>\n",
       "      <td>0.77</td>\n",
       "      <td>0.75</td>\n",
       "      <td>0.68</td>\n",
       "      <td>0.71</td>\n",
       "    </tr>\n",
       "    <tr>\n",
       "      <th>2</th>\n",
       "      <td>RandomForest</td>\n",
       "      <td>0.81</td>\n",
       "      <td>0.80</td>\n",
       "      <td>0.72</td>\n",
       "      <td>0.76</td>\n",
       "    </tr>\n",
       "    <tr>\n",
       "      <th>3</th>\n",
       "      <td>NaiveBayes</td>\n",
       "      <td>0.76</td>\n",
       "      <td>0.70</td>\n",
       "      <td>0.74</td>\n",
       "      <td>0.72</td>\n",
       "    </tr>\n",
       "    <tr>\n",
       "      <th>4</th>\n",
       "      <td>SVM</td>\n",
       "      <td>0.81</td>\n",
       "      <td>0.80</td>\n",
       "      <td>0.72</td>\n",
       "      <td>0.76</td>\n",
       "    </tr>\n",
       "    <tr>\n",
       "      <th>5</th>\n",
       "      <td>KNN</td>\n",
       "      <td>0.79</td>\n",
       "      <td>0.76</td>\n",
       "      <td>0.72</td>\n",
       "      <td>0.74</td>\n",
       "    </tr>\n",
       "    <tr>\n",
       "      <th>6</th>\n",
       "      <td>xgboost</td>\n",
       "      <td>0.83</td>\n",
       "      <td>0.84</td>\n",
       "      <td>0.73</td>\n",
       "      <td>0.78</td>\n",
       "    </tr>\n",
       "  </tbody>\n",
       "</table>\n",
       "</div>"
      ],
      "text/plain": [
       "           model_name  accuracy_score  precision_score  recall_score  f1_score\n",
       "0  LogisticRegression            0.81             0.78          0.76      0.77\n",
       "1        DecisionTree            0.77             0.75          0.68      0.71\n",
       "2        RandomForest            0.81             0.80          0.72      0.76\n",
       "3          NaiveBayes            0.76             0.70          0.74      0.72\n",
       "4                 SVM            0.81             0.80          0.72      0.76\n",
       "5                 KNN            0.79             0.76          0.72      0.74\n",
       "6             xgboost            0.83             0.84          0.73      0.78"
      ]
     },
     "execution_count": 63,
     "metadata": {},
     "output_type": "execute_result"
    }
   ],
   "source": [
    "train_data = pd.DataFrame(train_scores)\n",
    "train_data"
   ]
  },
  {
   "cell_type": "code",
   "execution_count": 64,
   "id": "ce9749f0",
   "metadata": {},
   "outputs": [
    {
     "data": {
      "image/png": "[encoded data removed]",
      "text/plain": [
       "<Figure size 700x400 with 1 Axes>"
      ]
     },
     "metadata": {},
     "output_type": "display_data"
    }
   ],
   "source": [
    "#plot a bar chart of the scores\n",
    "\n",
    "fig, ax = plt.subplots(figsize=[7,4])\n",
    "ax.bar( x=train_data['model_name'], height=train_data['accuracy_score'])\n",
    "\n",
    "ax.set_title('Accuracy Score of the Models')\n",
    "ax.set_xlabel('Models')\n",
    "ax.spines[['top', 'right', 'left']].set_visible(False)\n",
    "ax.yaxis.set_visible(False)\n",
    "plt.xticks(rotation=45)\n",
    "for index, values in enumerate(train_data['accuracy_score']):\n",
    "    ax.annotate(str(round(values*100, 2))+'%', xy=(index, values+0.02), va='center', ha='center')\n",
    "plt.show()"
   ]
  },
  {
   "cell_type": "markdown",
   "id": "e93cec22",
   "metadata": {},
   "source": [
    "## Model Evaluation"
   ]
  },
  {
   "cell_type": "code",
   "execution_count": 65,
   "id": "6133d2ba",
   "metadata": {},
   "outputs": [],
   "source": [
    "#create a function for cross validation\n",
    "\n",
    "def cross_val(models, X_train, y_train, k):\n",
    "    '''\n",
    "    this functions takes the different model and perform a five(5) fold cross validation\n",
    "    '''\n",
    "    #create a list for the score\n",
    "    score_param = []\n",
    "    \n",
    "    #creae a for loop to loop through the models\n",
    "    for model_name, mod in models.items():\n",
    "        score_cv = cross_val_score(mod['model'], X_train, y_train, cv=k)\n",
    "        score_mean = score_cv.mean()\n",
    "        score_std = score_cv.std()\n",
    "        \n",
    "        score_param.append({\n",
    "            'model_name': model_name,\n",
    "            'cv_score_mean': score_mean,\n",
    "            'cv_standard_deviation': score_std\n",
    "        })\n",
    "    return score_param"
   ]
  },
  {
   "cell_type": "code",
   "execution_count": 66,
   "id": "3c424a6a",
   "metadata": {},
   "outputs": [],
   "source": [
    "#calling the cross validation function\n",
    "cv_scores = cross_val(models, X_train, y_train, 5)"
   ]
  },
  {
   "cell_type": "code",
   "execution_count": 67,
   "id": "52e07ace",
   "metadata": {},
   "outputs": [
    {
     "data": {
      "text/html": [
       "<div>\n",
       "<style scoped>\n",
       "    .dataframe tbody tr th:only-of-type {\n",
       "        vertical-align: middle;\n",
       "    }\n",
       "\n",
       "    .dataframe tbody tr th {\n",
       "        vertical-align: top;\n",
       "    }\n",
       "\n",
       "    .dataframe thead th {\n",
       "        text-align: right;\n",
       "    }\n",
       "</style>\n",
       "<table border=\"1\" class=\"dataframe\">\n",
       "  <thead>\n",
       "    <tr style=\"text-align: right;\">\n",
       "      <th></th>\n",
       "      <th>model_name</th>\n",
       "      <th>cv_score_mean</th>\n",
       "      <th>cv_standard_deviation</th>\n",
       "    </tr>\n",
       "  </thead>\n",
       "  <tbody>\n",
       "    <tr>\n",
       "      <th>0</th>\n",
       "      <td>LogisticRegression</td>\n",
       "      <td>0.786457</td>\n",
       "      <td>0.027299</td>\n",
       "    </tr>\n",
       "    <tr>\n",
       "      <th>1</th>\n",
       "      <td>DecisionTree</td>\n",
       "      <td>0.787925</td>\n",
       "      <td>0.027920</td>\n",
       "    </tr>\n",
       "    <tr>\n",
       "      <th>2</th>\n",
       "      <td>RandomForest</td>\n",
       "      <td>0.808953</td>\n",
       "      <td>0.025947</td>\n",
       "    </tr>\n",
       "    <tr>\n",
       "      <th>3</th>\n",
       "      <td>NaiveBayes</td>\n",
       "      <td>0.775239</td>\n",
       "      <td>0.018291</td>\n",
       "    </tr>\n",
       "    <tr>\n",
       "      <th>4</th>\n",
       "      <td>SVM</td>\n",
       "      <td>0.821570</td>\n",
       "      <td>0.022926</td>\n",
       "    </tr>\n",
       "    <tr>\n",
       "      <th>5</th>\n",
       "      <td>KNN</td>\n",
       "      <td>0.804747</td>\n",
       "      <td>0.025089</td>\n",
       "    </tr>\n",
       "    <tr>\n",
       "      <th>6</th>\n",
       "      <td>xgboost</td>\n",
       "      <td>0.817404</td>\n",
       "      <td>0.012728</td>\n",
       "    </tr>\n",
       "  </tbody>\n",
       "</table>\n",
       "</div>"
      ],
      "text/plain": [
       "           model_name  cv_score_mean  cv_standard_deviation\n",
       "0  LogisticRegression       0.786457               0.027299\n",
       "1        DecisionTree       0.787925               0.027920\n",
       "2        RandomForest       0.808953               0.025947\n",
       "3          NaiveBayes       0.775239               0.018291\n",
       "4                 SVM       0.821570               0.022926\n",
       "5                 KNN       0.804747               0.025089\n",
       "6             xgboost       0.817404               0.012728"
      ]
     },
     "execution_count": 67,
     "metadata": {},
     "output_type": "execute_result"
    }
   ],
   "source": [
    "#convert the cross validation scores to dataframe\n",
    "cv_data = pd.DataFrame(cv_scores)\n",
    "cv_data"
   ]
  },
  {
   "cell_type": "code",
   "execution_count": 68,
   "id": "6e635703",
   "metadata": {},
   "outputs": [
    {
     "data": {
      "image/png": "[encoded data removed]",
      "text/plain": [
       "<Figure size 700x400 with 1 Axes>"
      ]
     },
     "metadata": {},
     "output_type": "display_data"
    }
   ],
   "source": [
    "fig, ax = plt.subplots(figsize=[7,4])\n",
    "base_color = sns.color_palette()[0]\n",
    "\n",
    "sns.barplot(data=cv_data, x='model_name', y='cv_score_mean', color=base_color)\n",
    "plt.xticks(rotation=45)\n",
    "\n",
    "ax.set_title('Cross Validation Scores for the Models')\n",
    "ax.set_xlabel('Models')\n",
    "ax.spines[['top', 'right', 'left']].set_visible(False)\n",
    "ax.yaxis.set_visible(False)\n",
    "\n",
    "for index, values in enumerate(cv_data['cv_score_mean']):\n",
    "    ax.annotate(str(round(values*100, 2))+'%', xy=(index, values+0.02), va='center', ha='center')\n",
    "plt.show()"
   ]
  },
  {
   "cell_type": "markdown",
   "id": "f5ac7cc8",
   "metadata": {},
   "source": [
    "## Hyperparameter Tuning"
   ]
  },
  {
   "cell_type": "code",
   "execution_count": 69,
   "id": "7924d398",
   "metadata": {},
   "outputs": [],
   "source": [
    "#define the models and its parameter grids\n",
    "param_models = {\n",
    "    'LogisticRegression': {\n",
    "        'model': LogisticRegression(),\n",
    "        'params': {\n",
    "            'multi_class': ['ovr'],\n",
    "            'solver': ['liblinear']\n",
    "        }\n",
    "    },\n",
    "    \n",
    "    'SVM': {\n",
    "        'model': SVC(),\n",
    "        'params': {\n",
    "            'kernel': ['linear', 'rbf'],\n",
    "            'C': [0.001, 0.01, 0.1, 1, 10],\n",
    "            'gamma': [0.01, 0.1, 1, 10]\n",
    "        }\n",
    "    },\n",
    "    \n",
    "    'DecisionTree': {\n",
    "        'model': DecisionTreeClassifier(),\n",
    "        'params': {\n",
    "            'criterion': ['gini', 'entropy'], \n",
    "            'max_depth': np.arange(2, 10, 2),\n",
    "            'max_features': ['sqrt', 'log2']\n",
    "        }\n",
    "    },\n",
    "    \n",
    "    'RandomForest': {\n",
    "        'model': RandomForestClassifier(),\n",
    "        'params': {\n",
    "            'criterion': ['gini', 'entropy'], \n",
    "            'max_depth': np.arange(2, 10, 2),\n",
    "            'max_features': ['sqrt', 'log2'],\n",
    "            'n_estimators': np.arange(20, 210, 10)\n",
    "        }\n",
    "    },\n",
    "    \n",
    "    'NaiveBayes': {\n",
    "        'model': GaussianNB(),\n",
    "        'params': {\n",
    "            'var_smoothing': np.logspace(0, -9, num=100)\n",
    "        }\n",
    "    },\n",
    "    \n",
    "    'KNN': {\n",
    "        'model':KNN(),\n",
    "        'params': {\n",
    "            'n_neighbors': np.arange(2, 10, 1)\n",
    "        }\n",
    "    },\n",
    "    \n",
    "    'Xgboost': {\n",
    "        'model': XGBClassifier(),\n",
    "        'params': {\n",
    "            'n_estimators': np.arange(100, 200, 20),\n",
    "            'max_depth': [2,4,6],\n",
    "            'learning_rate': [0.1, 0.01, 0.001]\n",
    "        }\n",
    "    }\n",
    "}"
   ]
  },
  {
   "cell_type": "code",
   "execution_count": 70,
   "id": "7c373046",
   "metadata": {},
   "outputs": [],
   "source": [
    "# create a for loop to perform hyperparameter tunning\n",
    "grid_score = []\n",
    "for model_name, mp in param_models.items():\n",
    "    grid_search = GridSearchCV(mp['model'], mp['params'], cv=5)\n",
    "    grid_search.fit(X_train, y_train)\n",
    "    grid_score.append({\n",
    "        'model_name': model_name,\n",
    "        'best_score': grid_search.best_score_,\n",
    "        'best_parameter': grid_search.best_params_\n",
    "    })"
   ]
  },
  {
   "cell_type": "code",
   "execution_count": 71,
   "id": "137d9202",
   "metadata": {},
   "outputs": [
    {
     "data": {
      "text/plain": [
       "[{'model_name': 'LogisticRegression',\n",
       "  'best_score': 0.7864572047670639,\n",
       "  'best_parameter': {'multi_class': 'ovr', 'solver': 'liblinear'}},\n",
       " {'model_name': 'SVM',\n",
       "  'best_score': 0.8272037821333595,\n",
       "  'best_parameter': {'C': 1, 'gamma': 1, 'kernel': 'rbf'}},\n",
       " {'model_name': 'DecisionTree',\n",
       "  'best_score': 0.817393873731902,\n",
       "  'best_parameter': {'criterion': 'entropy',\n",
       "   'max_depth': 4,\n",
       "   'max_features': 'sqrt'}},\n",
       " {'model_name': 'RandomForest',\n",
       "  'best_score': 0.8328277356446371,\n",
       "  'best_parameter': {'criterion': 'gini',\n",
       "   'max_depth': 4,\n",
       "   'max_features': 'log2',\n",
       "   'n_estimators': 80}},\n",
       " {'model_name': 'NaiveBayes',\n",
       "  'best_score': 0.8047375160051216,\n",
       "  'best_parameter': {'var_smoothing': 0.533669923120631}},\n",
       " {'model_name': 'KNN',\n",
       "  'best_score': 0.8216290751502019,\n",
       "  'best_parameter': {'n_neighbors': 9}},\n",
       " {'model_name': 'Xgboost',\n",
       "  'best_score': 0.8229882793263075,\n",
       "  'best_parameter': {'learning_rate': 0.1,\n",
       "   'max_depth': 2,\n",
       "   'n_estimators': 100}}]"
      ]
     },
     "execution_count": 71,
     "metadata": {},
     "output_type": "execute_result"
    }
   ],
   "source": [
    "grid_score"
   ]
  },
  {
   "cell_type": "code",
   "execution_count": 72,
   "id": "1325822e",
   "metadata": {},
   "outputs": [
    {
     "data": {
      "text/html": [
       "<div>\n",
       "<style scoped>\n",
       "    .dataframe tbody tr th:only-of-type {\n",
       "        vertical-align: middle;\n",
       "    }\n",
       "\n",
       "    .dataframe tbody tr th {\n",
       "        vertical-align: top;\n",
       "    }\n",
       "\n",
       "    .dataframe thead th {\n",
       "        text-align: right;\n",
       "    }\n",
       "</style>\n",
       "<table border=\"1\" class=\"dataframe\">\n",
       "  <thead>\n",
       "    <tr style=\"text-align: right;\">\n",
       "      <th></th>\n",
       "      <th>model_name</th>\n",
       "      <th>best_score</th>\n",
       "      <th>best_parameter</th>\n",
       "    </tr>\n",
       "  </thead>\n",
       "  <tbody>\n",
       "    <tr>\n",
       "      <th>0</th>\n",
       "      <td>LogisticRegression</td>\n",
       "      <td>0.786457</td>\n",
       "      <td>{'multi_class': 'ovr', 'solver': 'liblinear'}</td>\n",
       "    </tr>\n",
       "    <tr>\n",
       "      <th>1</th>\n",
       "      <td>SVM</td>\n",
       "      <td>0.827204</td>\n",
       "      <td>{'C': 1, 'gamma': 1, 'kernel': 'rbf'}</td>\n",
       "    </tr>\n",
       "    <tr>\n",
       "      <th>2</th>\n",
       "      <td>DecisionTree</td>\n",
       "      <td>0.817394</td>\n",
       "      <td>{'criterion': 'entropy', 'max_depth': 4, 'max_...</td>\n",
       "    </tr>\n",
       "    <tr>\n",
       "      <th>3</th>\n",
       "      <td>RandomForest</td>\n",
       "      <td>0.832828</td>\n",
       "      <td>{'criterion': 'gini', 'max_depth': 4, 'max_fea...</td>\n",
       "    </tr>\n",
       "    <tr>\n",
       "      <th>4</th>\n",
       "      <td>NaiveBayes</td>\n",
       "      <td>0.804738</td>\n",
       "      <td>{'var_smoothing': 0.533669923120631}</td>\n",
       "    </tr>\n",
       "    <tr>\n",
       "      <th>5</th>\n",
       "      <td>KNN</td>\n",
       "      <td>0.821629</td>\n",
       "      <td>{'n_neighbors': 9}</td>\n",
       "    </tr>\n",
       "    <tr>\n",
       "      <th>6</th>\n",
       "      <td>Xgboost</td>\n",
       "      <td>0.822988</td>\n",
       "      <td>{'learning_rate': 0.1, 'max_depth': 2, 'n_esti...</td>\n",
       "    </tr>\n",
       "  </tbody>\n",
       "</table>\n",
       "</div>"
      ],
      "text/plain": [
       "           model_name  best_score  \\\n",
       "0  LogisticRegression    0.786457   \n",
       "1                 SVM    0.827204   \n",
       "2        DecisionTree    0.817394   \n",
       "3        RandomForest    0.832828   \n",
       "4          NaiveBayes    0.804738   \n",
       "5                 KNN    0.821629   \n",
       "6             Xgboost    0.822988   \n",
       "\n",
       "                                      best_parameter  \n",
       "0      {'multi_class': 'ovr', 'solver': 'liblinear'}  \n",
       "1              {'C': 1, 'gamma': 1, 'kernel': 'rbf'}  \n",
       "2  {'criterion': 'entropy', 'max_depth': 4, 'max_...  \n",
       "3  {'criterion': 'gini', 'max_depth': 4, 'max_fea...  \n",
       "4               {'var_smoothing': 0.533669923120631}  \n",
       "5                                 {'n_neighbors': 9}  \n",
       "6  {'learning_rate': 0.1, 'max_depth': 2, 'n_esti...  "
      ]
     },
     "execution_count": 72,
     "metadata": {},
     "output_type": "execute_result"
    }
   ],
   "source": [
    "#converting the grid_scores to dataframe\n",
    "gs_data = pd.DataFrame(grid_score)\n",
    "gs_data.columns = ['model_name', 'best_score', 'best_parameter']\n",
    "gs_data"
   ]
  },
  {
   "cell_type": "code",
   "execution_count": 73,
   "id": "91b2a8bc",
   "metadata": {},
   "outputs": [
    {
     "data": {
      "image/png": "[encoded data removed]",
      "text/plain": [
       "<Figure size 700x500 with 1 Axes>"
      ]
     },
     "metadata": {},
     "output_type": "display_data"
    }
   ],
   "source": [
    "#plotting a barplot of the best_score\n",
    "\n",
    "fig, ax =plt.subplots(figsize=[7,5])\n",
    "base_color = sns.color_palette()[0]\n",
    "\n",
    "sns.barplot(data=gs_data, x='model_name', y='best_score', color=base_color)\n",
    "plt.xticks(rotation=45)\n",
    "\n",
    "ax.set_title('Hyperparameter tuning Best Scores for the Models')\n",
    "ax.set_xlabel('Models')\n",
    "ax.spines[['top', 'right', 'left']].set_visible(False)\n",
    "ax.yaxis.set_visible(False)\n",
    "\n",
    "for index, values in enumerate(gs_data['best_score']):\n",
    "    ax.annotate(str(round(values*100, 2))+'%', xy=(index, values+0.02), va='center', ha='center')\n",
    "plt.show()"
   ]
  },
  {
   "cell_type": "markdown",
   "id": "06587661",
   "metadata": {},
   "source": [
    "- From the hyperparameter tuning, these three models **Xgboost**, **SVM**, **Random Forest Classifier** performs better with more than **80%** score"
   ]
  },
  {
   "cell_type": "markdown",
   "id": "5675dd57",
   "metadata": {},
   "source": [
    "## Random Forest Classifier (with best parameter)"
   ]
  },
  {
   "cell_type": "code",
   "execution_count": 75,
   "id": "82758b83",
   "metadata": {},
   "outputs": [
    {
     "data": {
      "text/plain": [
       "0.8212290502793296"
      ]
     },
     "execution_count": 75,
     "metadata": {},
     "output_type": "execute_result"
    }
   ],
   "source": [
    "#instantiate the model with the best parameter\n",
    "clf_rf = RandomForestClassifier(criterion='gini', max_depth= 4, max_features='log2', n_estimators= 80)\n",
    "\n",
    "#fit the model\n",
    "clf_rf.fit(X_train, y_train)\n",
    "\n",
    "#predict the y_test\n",
    "y_pred_rf = clf_rf.predict(X_test)\n",
    "\n",
    "#check the accuracy score\n",
    "rf_acc_score = accuracy_score(y_test, y_pred_rf)\n",
    "rf_acc_score"
   ]
  },
  {
   "cell_type": "markdown",
   "id": "70f45462",
   "metadata": {},
   "source": [
    "### Random Forest Confusion Matrix"
   ]
  },
  {
   "cell_type": "code",
   "execution_count": 76,
   "id": "dc098d38",
   "metadata": {},
   "outputs": [
    {
     "data": {
      "text/plain": [
       "<sklearn.metrics._plot.confusion_matrix.ConfusionMatrixDisplay at 0x2108ce023b0>"
      ]
     },
     "execution_count": 76,
     "metadata": {},
     "output_type": "execute_result"
    },
    {
     "data": {
      "image/png": "[encoded data removed]",
      "text/plain": [
       "<Figure size 640x480 with 2 Axes>"
      ]
     },
     "metadata": {},
     "output_type": "display_data"
    }
   ],
   "source": [
    "#display the Confusion Matrix for the classifier\n",
    "ConfusionMatrixDisplay.from_predictions(y_test, y_pred_rf)"
   ]
  },
  {
   "cell_type": "markdown",
   "id": "c7ce9ba5",
   "metadata": {},
   "source": [
    "### ROC CURVE"
   ]
  },
  {
   "cell_type": "code",
   "execution_count": 77,
   "id": "b5c3740d",
   "metadata": {},
   "outputs": [
    {
     "data": {
      "text/plain": [
       "<sklearn.metrics._plot.roc_curve.RocCurveDisplay at 0x2108d0ffd60>"
      ]
     },
     "execution_count": 77,
     "metadata": {},
     "output_type": "execute_result"
    },
    {
     "data": {
      "image/png": "[encoded data removed]",
      "text/plain": [
       "<Figure size 640x480 with 1 Axes>"
      ]
     },
     "metadata": {},
     "output_type": "display_data"
    }
   ],
   "source": [
    "#plot the roc curve\n",
    "RocCurveDisplay.from_predictions(y_test, y_pred_rf)"
   ]
  },
  {
   "cell_type": "markdown",
   "id": "be6e2230",
   "metadata": {},
   "source": [
    "## SVM (with the best parameter)"
   ]
  },
  {
   "cell_type": "code",
   "execution_count": 78,
   "id": "fee27acf",
   "metadata": {},
   "outputs": [
    {
     "data": {
      "text/plain": [
       "0.8044692737430168"
      ]
     },
     "execution_count": 78,
     "metadata": {},
     "output_type": "execute_result"
    }
   ],
   "source": [
    "#instantiate the model with the best parameter\n",
    "clf_svc = SVC(C=1, gamma= 1, kernel='rbf')\n",
    "\n",
    "#fit the model\n",
    "clf_svc.fit(X_train, y_train)\n",
    "\n",
    "#predict the y_test\n",
    "y_pred_svc = clf_svc.predict(X_test)\n",
    "\n",
    "#check the accuracy score\n",
    "svc_acc_score = accuracy_score(y_test, y_pred_svc)\n",
    "svc_acc_score"
   ]
  },
  {
   "cell_type": "markdown",
   "id": "436ef9ab",
   "metadata": {},
   "source": [
    "### SVC Confusion Matrix"
   ]
  },
  {
   "cell_type": "code",
   "execution_count": 79,
   "id": "f003eff0",
   "metadata": {},
   "outputs": [
    {
     "data": {
      "text/plain": [
       "<sklearn.metrics._plot.confusion_matrix.ConfusionMatrixDisplay at 0x2108ce1ba60>"
      ]
     },
     "execution_count": 79,
     "metadata": {},
     "output_type": "execute_result"
    },
    {
     "data": {
      "image/png": "[encoded data removed]",
      "text/plain": [
       "<Figure size 640x480 with 2 Axes>"
      ]
     },
     "metadata": {},
     "output_type": "display_data"
    }
   ],
   "source": [
    "#display the Confusion Matrix for the classifier\n",
    "ConfusionMatrixDisplay.from_predictions(y_test, y_pred_svc)"
   ]
  },
  {
   "cell_type": "markdown",
   "id": "c7389384",
   "metadata": {},
   "source": [
    "### ROC Curve"
   ]
  },
  {
   "cell_type": "code",
   "execution_count": 80,
   "id": "822f468f",
   "metadata": {},
   "outputs": [
    {
     "data": {
      "text/plain": [
       "<sklearn.metrics._plot.roc_curve.RocCurveDisplay at 0x2108d103a00>"
      ]
     },
     "execution_count": 80,
     "metadata": {},
     "output_type": "execute_result"
    },
    {
     "data": {
      "image/png": "[encoded data removed]",
      "text/plain": [
       "<Figure size 640x480 with 1 Axes>"
      ]
     },
     "metadata": {},
     "output_type": "display_data"
    }
   ],
   "source": [
    "#plot the roc curve\n",
    "RocCurveDisplay.from_predictions(y_test, y_pred_svc)"
   ]
  },
  {
   "cell_type": "markdown",
   "id": "8fc4b801",
   "metadata": {},
   "source": [
    "## XGBOOST (with best parameter)"
   ]
  },
  {
   "cell_type": "code",
   "execution_count": 81,
   "id": "898633cd",
   "metadata": {},
   "outputs": [
    {
     "data": {
      "text/plain": [
       "0.8156424581005587"
      ]
     },
     "execution_count": 81,
     "metadata": {},
     "output_type": "execute_result"
    }
   ],
   "source": [
    "#instantiate the model with the best parameter\n",
    "clf_xg = XGBClassifier(learning_rate=0.1, max_depth=2, n_estimators=100)\n",
    "\n",
    "#fit the model\n",
    "clf_xg.fit(X_train, y_train)\n",
    "\n",
    "#predict the y_test\n",
    "y_pred_xg = clf_xg.predict(X_test)\n",
    "\n",
    "#check the accuracy score\n",
    "xg_acc_score = accuracy_score(y_test, y_pred_xg)\n",
    "xg_acc_score"
   ]
  },
  {
   "cell_type": "markdown",
   "id": "e8135df3",
   "metadata": {},
   "source": [
    "### XGBOOST Confusion Matrix"
   ]
  },
  {
   "cell_type": "code",
   "execution_count": 82,
   "id": "7206c714",
   "metadata": {},
   "outputs": [
    {
     "data": {
      "text/plain": [
       "<sklearn.metrics._plot.confusion_matrix.ConfusionMatrixDisplay at 0x2108d0ffb20>"
      ]
     },
     "execution_count": 82,
     "metadata": {},
     "output_type": "execute_result"
    },
    {
     "data": {
      "image/png": "[encoded data removed]",
      "text/plain": [
       "<Figure size 640x480 with 2 Axes>"
      ]
     },
     "metadata": {},
     "output_type": "display_data"
    }
   ],
   "source": [
    "#display the Confusion Matrix for the classifier\n",
    "ConfusionMatrixDisplay.from_predictions(y_test, y_pred_xg)"
   ]
  },
  {
   "cell_type": "markdown",
   "id": "0641b64c",
   "metadata": {},
   "source": [
    "### ROC Curve"
   ]
  },
  {
   "cell_type": "code",
   "execution_count": 83,
   "id": "9d210ef4",
   "metadata": {},
   "outputs": [
    {
     "data": {
      "text/plain": [
       "<sklearn.metrics._plot.roc_curve.RocCurveDisplay at 0x2108c8f7340>"
      ]
     },
     "execution_count": 83,
     "metadata": {},
     "output_type": "execute_result"
    },
    {
     "data": {
      "image/png": "[encoded data removed]",
      "text/plain": [
       "<Figure size 640x480 with 1 Axes>"
      ]
     },
     "metadata": {},
     "output_type": "display_data"
    }
   ],
   "source": [
    "#plot the roc curve\n",
    "RocCurveDisplay.from_predictions(y_test, y_pred_xg)"
   ]
  },
  {
   "cell_type": "markdown",
   "id": "9b77e557",
   "metadata": {},
   "source": [
    "## Accuracy Score of the top three Models"
   ]
  },
  {
   "cell_type": "code",
   "execution_count": 84,
   "id": "eb7f319b",
   "metadata": {},
   "outputs": [
    {
     "data": {
      "text/html": [
       "<div>\n",
       "<style scoped>\n",
       "    .dataframe tbody tr th:only-of-type {\n",
       "        vertical-align: middle;\n",
       "    }\n",
       "\n",
       "    .dataframe tbody tr th {\n",
       "        vertical-align: top;\n",
       "    }\n",
       "\n",
       "    .dataframe thead th {\n",
       "        text-align: right;\n",
       "    }\n",
       "</style>\n",
       "<table border=\"1\" class=\"dataframe\">\n",
       "  <thead>\n",
       "    <tr style=\"text-align: right;\">\n",
       "      <th></th>\n",
       "      <th>scores</th>\n",
       "    </tr>\n",
       "  </thead>\n",
       "  <tbody>\n",
       "    <tr>\n",
       "      <th>Random Forest</th>\n",
       "      <td>0.821229</td>\n",
       "    </tr>\n",
       "    <tr>\n",
       "      <th>SVC</th>\n",
       "      <td>0.804469</td>\n",
       "    </tr>\n",
       "    <tr>\n",
       "      <th>XGBOOST</th>\n",
       "      <td>0.815642</td>\n",
       "    </tr>\n",
       "  </tbody>\n",
       "</table>\n",
       "</div>"
      ],
      "text/plain": [
       "                 scores\n",
       "Random Forest  0.821229\n",
       "SVC            0.804469\n",
       "XGBOOST        0.815642"
      ]
     },
     "execution_count": 84,
     "metadata": {},
     "output_type": "execute_result"
    }
   ],
   "source": [
    "#create a dictionary of the scores\n",
    "acc_scores = {'scores': [rf_acc_score, svc_acc_score, xg_acc_score]}\n",
    " \n",
    "\n",
    "#convert the dictionary to dataframe\n",
    "top_model_scores = pd.DataFrame(acc_scores)\n",
    "top_model_scores.index = ['Random Forest', 'SVC', 'XGBOOST']\n",
    "top_model_scores"
   ]
  },
  {
   "cell_type": "code",
   "execution_count": 85,
   "id": "7197d68c",
   "metadata": {
    "code_folding": [
     0
    ]
   },
   "outputs": [
    {
     "data": {
      "image/png": "[encoded data removed]",
      "text/plain": [
       "<Figure size 600x400 with 1 Axes>"
      ]
     },
     "metadata": {},
     "output_type": "display_data"
    }
   ],
   "source": [
    "#plotting a bar chart\n",
    "fig, ax = plt.subplots(figsize=[6,4])\n",
    "ax.bar(x=top_model_scores['scores'].index, height=top_model_scores['scores'].values)\n",
    "\n",
    "ax.set_title('top model accuracy scores')\n",
    "ax.set_xlabel('Models')\n",
    "ax.set_ylabel('scores')\n",
    "\n",
    "ax.spines[['top', 'left', 'right']].set_visible(False)\n",
    "ax.yaxis.set_visible(False)\n",
    "\n",
    "for index, values in enumerate(top_model_scores['scores']):\n",
    "    ax.annotate(str(round((values*100), 2))+'%', xy=(index, values+0.02), ha='center', va='center')\n",
    "\n",
    "plt.show()"
   ]
  },
  {
   "cell_type": "markdown",
   "id": "832070fd",
   "metadata": {},
   "source": [
    "- From the bar chart, the **Random Forest Classifier** is the best model for the classification "
   ]
  },
  {
   "cell_type": "markdown",
   "id": "c4cab198",
   "metadata": {},
   "source": [
    "## Saving the Model"
   ]
  },
  {
   "cell_type": "code",
   "execution_count": 86,
   "id": "39e8c276",
   "metadata": {},
   "outputs": [],
   "source": [
    "#import pickle and os\n",
    "import os\n",
    "import pickle\n",
    "pickle.dump(clf_rf, open('model.pkl', 'wb'))"
   ]
  },
  {
   "cell_type": "markdown",
   "id": "4e96a5c8",
   "metadata": {},
   "source": [
    "## Save the Scaler"
   ]
  },
  {
   "cell_type": "code",
   "execution_count": 87,
   "id": "4f84594a",
   "metadata": {},
   "outputs": [],
   "source": [
    "#saving the standard scaler\n",
    "pickle.dump(scaler, open('scaler.pickle', 'wb'))"
   ]
  },
  {
   "cell_type": "markdown",
   "id": "5e88cdfa",
   "metadata": {},
   "source": [
    "## Load the Model"
   ]
  },
  {
   "cell_type": "code",
   "execution_count": 88,
   "id": "292884d2",
   "metadata": {},
   "outputs": [],
   "source": [
    "#load the model\n",
    "model_titanic = pickle.load(open('model.pkl', 'rb'))"
   ]
  },
  {
   "cell_type": "code",
   "execution_count": null,
   "id": "2b38e937",
   "metadata": {},
   "outputs": [],
   "source": []
  },
  {
   "cell_type": "markdown",
   "id": "461c1e7c",
   "metadata": {},
   "source": [
    "## Import the test_data"
   ]
  },
  {
   "cell_type": "code",
   "execution_count": 89,
   "id": "3e91cf67",
   "metadata": {},
   "outputs": [],
   "source": [
    "#import test data\n",
    "test_data = pd.read_csv('test.csv')"
   ]
  },
  {
   "cell_type": "code",
   "execution_count": 90,
   "id": "81cb5017",
   "metadata": {},
   "outputs": [
    {
     "data": {
      "text/html": [
       "<div>\n",
       "<style scoped>\n",
       "    .dataframe tbody tr th:only-of-type {\n",
       "        vertical-align: middle;\n",
       "    }\n",
       "\n",
       "    .dataframe tbody tr th {\n",
       "        vertical-align: top;\n",
       "    }\n",
       "\n",
       "    .dataframe thead th {\n",
       "        text-align: right;\n",
       "    }\n",
       "</style>\n",
       "<table border=\"1\" class=\"dataframe\">\n",
       "  <thead>\n",
       "    <tr style=\"text-align: right;\">\n",
       "      <th></th>\n",
       "      <th>PassengerId</th>\n",
       "      <th>Pclass</th>\n",
       "      <th>Name</th>\n",
       "      <th>Sex</th>\n",
       "      <th>Age</th>\n",
       "      <th>SibSp</th>\n",
       "      <th>Parch</th>\n",
       "      <th>Ticket</th>\n",
       "      <th>Fare</th>\n",
       "      <th>Cabin</th>\n",
       "      <th>Embarked</th>\n",
       "    </tr>\n",
       "  </thead>\n",
       "  <tbody>\n",
       "    <tr>\n",
       "      <th>0</th>\n",
       "      <td>892</td>\n",
       "      <td>3</td>\n",
       "      <td>Kelly, Mr. James</td>\n",
       "      <td>male</td>\n",
       "      <td>34.5</td>\n",
       "      <td>0</td>\n",
       "      <td>0</td>\n",
       "      <td>330911</td>\n",
       "      <td>7.8292</td>\n",
       "      <td>NaN</td>\n",
       "      <td>Q</td>\n",
       "    </tr>\n",
       "    <tr>\n",
       "      <th>1</th>\n",
       "      <td>893</td>\n",
       "      <td>3</td>\n",
       "      <td>Wilkes, Mrs. James (Ellen Needs)</td>\n",
       "      <td>female</td>\n",
       "      <td>47.0</td>\n",
       "      <td>1</td>\n",
       "      <td>0</td>\n",
       "      <td>363272</td>\n",
       "      <td>7.0000</td>\n",
       "      <td>NaN</td>\n",
       "      <td>S</td>\n",
       "    </tr>\n",
       "    <tr>\n",
       "      <th>2</th>\n",
       "      <td>894</td>\n",
       "      <td>2</td>\n",
       "      <td>Myles, Mr. Thomas Francis</td>\n",
       "      <td>male</td>\n",
       "      <td>62.0</td>\n",
       "      <td>0</td>\n",
       "      <td>0</td>\n",
       "      <td>240276</td>\n",
       "      <td>9.6875</td>\n",
       "      <td>NaN</td>\n",
       "      <td>Q</td>\n",
       "    </tr>\n",
       "    <tr>\n",
       "      <th>3</th>\n",
       "      <td>895</td>\n",
       "      <td>3</td>\n",
       "      <td>Wirz, Mr. Albert</td>\n",
       "      <td>male</td>\n",
       "      <td>27.0</td>\n",
       "      <td>0</td>\n",
       "      <td>0</td>\n",
       "      <td>315154</td>\n",
       "      <td>8.6625</td>\n",
       "      <td>NaN</td>\n",
       "      <td>S</td>\n",
       "    </tr>\n",
       "    <tr>\n",
       "      <th>4</th>\n",
       "      <td>896</td>\n",
       "      <td>3</td>\n",
       "      <td>Hirvonen, Mrs. Alexander (Helga E Lindqvist)</td>\n",
       "      <td>female</td>\n",
       "      <td>22.0</td>\n",
       "      <td>1</td>\n",
       "      <td>1</td>\n",
       "      <td>3101298</td>\n",
       "      <td>12.2875</td>\n",
       "      <td>NaN</td>\n",
       "      <td>S</td>\n",
       "    </tr>\n",
       "  </tbody>\n",
       "</table>\n",
       "</div>"
      ],
      "text/plain": [
       "   PassengerId  Pclass                                          Name     Sex  \\\n",
       "0          892       3                              Kelly, Mr. James    male   \n",
       "1          893       3              Wilkes, Mrs. James (Ellen Needs)  female   \n",
       "2          894       2                     Myles, Mr. Thomas Francis    male   \n",
       "3          895       3                              Wirz, Mr. Albert    male   \n",
       "4          896       3  Hirvonen, Mrs. Alexander (Helga E Lindqvist)  female   \n",
       "\n",
       "    Age  SibSp  Parch   Ticket     Fare Cabin Embarked  \n",
       "0  34.5      0      0   330911   7.8292   NaN        Q  \n",
       "1  47.0      1      0   363272   7.0000   NaN        S  \n",
       "2  62.0      0      0   240276   9.6875   NaN        Q  \n",
       "3  27.0      0      0   315154   8.6625   NaN        S  \n",
       "4  22.0      1      1  3101298  12.2875   NaN        S  "
      ]
     },
     "execution_count": 90,
     "metadata": {},
     "output_type": "execute_result"
    }
   ],
   "source": [
    "#display the few lines of the test_data\n",
    "test_data.head()"
   ]
  },
  {
   "cell_type": "code",
   "execution_count": 91,
   "id": "05fe35d9",
   "metadata": {},
   "outputs": [
    {
     "data": {
      "text/plain": [
       "PassengerId      0\n",
       "Pclass           0\n",
       "Name             0\n",
       "Sex              0\n",
       "Age             86\n",
       "SibSp            0\n",
       "Parch            0\n",
       "Ticket           0\n",
       "Fare             1\n",
       "Cabin          327\n",
       "Embarked         0\n",
       "dtype: int64"
      ]
     },
     "execution_count": 91,
     "metadata": {},
     "output_type": "execute_result"
    }
   ],
   "source": [
    "#checking for missing values\n",
    "test_data.isna().sum()"
   ]
  },
  {
   "cell_type": "code",
   "execution_count": 92,
   "id": "10b99248",
   "metadata": {},
   "outputs": [
    {
     "data": {
      "text/plain": [
       "0"
      ]
     },
     "execution_count": 92,
     "metadata": {},
     "output_type": "execute_result"
    }
   ],
   "source": [
    "#checking for duplicates\n",
    "test_data.duplicated().sum()"
   ]
  },
  {
   "cell_type": "code",
   "execution_count": 93,
   "id": "3b6fce06",
   "metadata": {},
   "outputs": [],
   "source": [
    "#drop unnecessary columns\n",
    "test_data.drop(['PassengerId', 'Name', 'Ticket', 'Fare', 'Cabin', 'Embarked'], axis=1, inplace=True)"
   ]
  },
  {
   "cell_type": "code",
   "execution_count": 94,
   "id": "60924e23",
   "metadata": {
    "scrolled": true
   },
   "outputs": [
    {
     "data": {
      "text/html": [
       "<div>\n",
       "<style scoped>\n",
       "    .dataframe tbody tr th:only-of-type {\n",
       "        vertical-align: middle;\n",
       "    }\n",
       "\n",
       "    .dataframe tbody tr th {\n",
       "        vertical-align: top;\n",
       "    }\n",
       "\n",
       "    .dataframe thead th {\n",
       "        text-align: right;\n",
       "    }\n",
       "</style>\n",
       "<table border=\"1\" class=\"dataframe\">\n",
       "  <thead>\n",
       "    <tr style=\"text-align: right;\">\n",
       "      <th></th>\n",
       "      <th>Pclass</th>\n",
       "      <th>Sex</th>\n",
       "      <th>Age</th>\n",
       "      <th>SibSp</th>\n",
       "      <th>Parch</th>\n",
       "    </tr>\n",
       "  </thead>\n",
       "  <tbody>\n",
       "    <tr>\n",
       "      <th>0</th>\n",
       "      <td>3</td>\n",
       "      <td>male</td>\n",
       "      <td>34.5</td>\n",
       "      <td>0</td>\n",
       "      <td>0</td>\n",
       "    </tr>\n",
       "    <tr>\n",
       "      <th>1</th>\n",
       "      <td>3</td>\n",
       "      <td>female</td>\n",
       "      <td>47.0</td>\n",
       "      <td>1</td>\n",
       "      <td>0</td>\n",
       "    </tr>\n",
       "    <tr>\n",
       "      <th>2</th>\n",
       "      <td>2</td>\n",
       "      <td>male</td>\n",
       "      <td>62.0</td>\n",
       "      <td>0</td>\n",
       "      <td>0</td>\n",
       "    </tr>\n",
       "    <tr>\n",
       "      <th>3</th>\n",
       "      <td>3</td>\n",
       "      <td>male</td>\n",
       "      <td>27.0</td>\n",
       "      <td>0</td>\n",
       "      <td>0</td>\n",
       "    </tr>\n",
       "    <tr>\n",
       "      <th>4</th>\n",
       "      <td>3</td>\n",
       "      <td>female</td>\n",
       "      <td>22.0</td>\n",
       "      <td>1</td>\n",
       "      <td>1</td>\n",
       "    </tr>\n",
       "  </tbody>\n",
       "</table>\n",
       "</div>"
      ],
      "text/plain": [
       "   Pclass     Sex   Age  SibSp  Parch\n",
       "0       3    male  34.5      0      0\n",
       "1       3  female  47.0      1      0\n",
       "2       2    male  62.0      0      0\n",
       "3       3    male  27.0      0      0\n",
       "4       3  female  22.0      1      1"
      ]
     },
     "execution_count": 94,
     "metadata": {},
     "output_type": "execute_result"
    }
   ],
   "source": [
    "#display few lines\n",
    "test_data.head()"
   ]
  },
  {
   "cell_type": "code",
   "execution_count": 95,
   "id": "8d485020",
   "metadata": {},
   "outputs": [],
   "source": [
    "#preprocessing age of test data\n",
    "age_med = test_data['Age'].median()\n",
    "test_data['Age'] = test_data['Age'].fillna(age_med)\n",
    "\n",
    "#round the age and convert to integer\n",
    "test_data['Age'] = test_data['Age'].round(0).astype('int')"
   ]
  },
  {
   "cell_type": "code",
   "execution_count": 96,
   "id": "ea5039a8",
   "metadata": {},
   "outputs": [],
   "source": [
    "#map the category 'Sex' to integer\n",
    "test_data['Sex'] = test_data['Sex'].map({'female': 0, 'male': 1})"
   ]
  },
  {
   "cell_type": "code",
   "execution_count": 97,
   "id": "ea620738",
   "metadata": {},
   "outputs": [
    {
     "data": {
      "text/html": [
       "<div>\n",
       "<style scoped>\n",
       "    .dataframe tbody tr th:only-of-type {\n",
       "        vertical-align: middle;\n",
       "    }\n",
       "\n",
       "    .dataframe tbody tr th {\n",
       "        vertical-align: top;\n",
       "    }\n",
       "\n",
       "    .dataframe thead th {\n",
       "        text-align: right;\n",
       "    }\n",
       "</style>\n",
       "<table border=\"1\" class=\"dataframe\">\n",
       "  <thead>\n",
       "    <tr style=\"text-align: right;\">\n",
       "      <th></th>\n",
       "      <th>Pclass</th>\n",
       "      <th>Sex</th>\n",
       "      <th>Age</th>\n",
       "      <th>SibSp</th>\n",
       "      <th>Parch</th>\n",
       "    </tr>\n",
       "  </thead>\n",
       "  <tbody>\n",
       "    <tr>\n",
       "      <th>0</th>\n",
       "      <td>3</td>\n",
       "      <td>1</td>\n",
       "      <td>34</td>\n",
       "      <td>0</td>\n",
       "      <td>0</td>\n",
       "    </tr>\n",
       "    <tr>\n",
       "      <th>1</th>\n",
       "      <td>3</td>\n",
       "      <td>0</td>\n",
       "      <td>47</td>\n",
       "      <td>1</td>\n",
       "      <td>0</td>\n",
       "    </tr>\n",
       "    <tr>\n",
       "      <th>2</th>\n",
       "      <td>2</td>\n",
       "      <td>1</td>\n",
       "      <td>62</td>\n",
       "      <td>0</td>\n",
       "      <td>0</td>\n",
       "    </tr>\n",
       "  </tbody>\n",
       "</table>\n",
       "</div>"
      ],
      "text/plain": [
       "   Pclass  Sex  Age  SibSp  Parch\n",
       "0       3    1   34      0      0\n",
       "1       3    0   47      1      0\n",
       "2       2    1   62      0      0"
      ]
     },
     "execution_count": 97,
     "metadata": {},
     "output_type": "execute_result"
    }
   ],
   "source": [
    "#display few lines\n",
    "test_data.head(3)"
   ]
  },
  {
   "cell_type": "code",
   "execution_count": 98,
   "id": "e4b90b0b",
   "metadata": {},
   "outputs": [],
   "source": [
    "#creating the XX_test set\n",
    "XX_test = test_data.copy()"
   ]
  },
  {
   "cell_type": "markdown",
   "id": "3d3b70ed",
   "metadata": {},
   "source": [
    "## Standardize the XX_test data"
   ]
  },
  {
   "cell_type": "code",
   "execution_count": 99,
   "id": "809045e8",
   "metadata": {},
   "outputs": [],
   "source": [
    "#transform the XX_test data\n",
    "XX_test = scaler.transform(XX_test)"
   ]
  },
  {
   "cell_type": "markdown",
   "id": "0af4682e",
   "metadata": {},
   "source": [
    "## Predict the yy_test"
   ]
  },
  {
   "cell_type": "code",
   "execution_count": 100,
   "id": "77e0f5dd",
   "metadata": {},
   "outputs": [],
   "source": [
    "#predicting the yy_test\n",
    "yy_pred = model_titanic.predict(XX_test)"
   ]
  },
  {
   "cell_type": "code",
   "execution_count": 101,
   "id": "39302527",
   "metadata": {},
   "outputs": [
    {
     "data": {
      "text/plain": [
       "array([0, 0, 0, 0, 0, 0, 1, 0, 1, 0, 0, 0, 1, 0, 1, 1, 0, 0, 1, 0, 0, 0,\n",
       "       1, 0, 1, 0, 1, 0, 0, 0, 0, 0, 0, 0, 0, 0, 1, 1, 0, 0, 0, 0, 0, 1,\n",
       "       1, 0, 0, 0, 1, 0, 0, 0, 1, 1, 0, 0, 0, 0, 0, 1, 0, 0, 0, 1, 1, 1,\n",
       "       1, 0, 0, 1, 1, 0, 1, 0, 1, 0, 0, 1, 0, 1, 0, 0, 0, 0, 0, 0, 1, 1,\n",
       "       1, 1, 1, 0, 1, 0, 0, 0, 1, 0, 1, 0, 1, 0, 0, 0, 0, 0, 0, 0, 0, 0,\n",
       "       0, 1, 1, 1, 1, 0, 0, 1, 0, 1, 1, 0, 1, 0, 0, 1, 0, 1, 0, 0, 0, 0,\n",
       "       0, 0, 0, 0, 0, 0, 1, 0, 0, 1, 0, 0, 0, 0, 0, 0, 0, 0, 1, 0, 0, 0,\n",
       "       0, 0, 1, 1, 0, 1, 1, 0, 1, 0, 0, 0, 0, 0, 1, 1, 0, 0, 0, 0, 0, 1,\n",
       "       1, 0, 1, 1, 0, 0, 1, 0, 1, 0, 1, 0, 0, 0, 0, 0, 0, 0, 1, 0, 1, 1,\n",
       "       0, 1, 1, 1, 0, 1, 0, 0, 1, 0, 1, 0, 0, 0, 0, 1, 0, 0, 1, 0, 1, 0,\n",
       "       1, 0, 1, 0, 1, 1, 0, 1, 0, 0, 0, 1, 0, 0, 0, 0, 0, 0, 1, 1, 1, 1,\n",
       "       0, 0, 0, 0, 1, 0, 1, 1, 1, 0, 0, 0, 0, 0, 0, 0, 1, 0, 0, 0, 1, 1,\n",
       "       0, 0, 0, 0, 1, 0, 0, 0, 1, 1, 0, 1, 0, 0, 0, 0, 1, 1, 1, 1, 1, 0,\n",
       "       0, 0, 0, 0, 0, 1, 0, 0, 0, 0, 1, 0, 0, 0, 0, 0, 0, 0, 1, 1, 0, 1,\n",
       "       0, 0, 0, 0, 0, 0, 1, 1, 0, 0, 0, 0, 0, 0, 0, 0, 1, 0, 1, 0, 0, 0,\n",
       "       1, 0, 0, 0, 0, 0, 0, 0, 0, 0, 0, 0, 0, 1, 0, 1, 0, 0, 0, 1, 1, 0,\n",
       "       0, 0, 1, 0, 1, 0, 0, 1, 0, 1, 1, 0, 1, 0, 0, 1, 1, 0, 0, 1, 0, 0,\n",
       "       1, 1, 0, 0, 0, 0, 0, 0, 1, 1, 0, 1, 0, 0, 0, 0, 0, 1, 0, 0, 0, 1,\n",
       "       0, 1, 0, 0, 1, 0, 1, 0, 0, 0, 0, 0, 1, 1, 1, 1, 1, 0, 1, 0, 0, 0],\n",
       "      dtype=int64)"
      ]
     },
     "execution_count": 101,
     "metadata": {},
     "output_type": "execute_result"
    }
   ],
   "source": [
    "yy_pred"
   ]
  },
  {
   "cell_type": "code",
   "execution_count": null,
   "id": "2d6a0700",
   "metadata": {},
   "outputs": [],
   "source": []
  }
 ],
 "metadata": {
  "kernelspec": {
   "display_name": "Python 3 (ipykernel)",
   "language": "python",
   "name": "python3"
  },
  "language_info": {
   "codemirror_mode": {
    "name": "ipython",
    "version": 3
   },
   "file_extension": ".py",
   "mimetype": "text/x-python",
   "name": "python",
   "nbconvert_exporter": "python",
   "pygments_lexer": "ipython3",
   "version": "3.10.9"
  },
  "varInspector": {
   "cols": {
    "lenName": 16,
    "lenType": 16,
    "lenVar": 40
   },
   "kernels_config": {
    "python": {
     "delete_cmd_postfix": "",
     "delete_cmd_prefix": "del ",
     "library": "var_list.py",
     "varRefreshCmd": "print(var_dic_list())"
    },
    "r": {
     "delete_cmd_postfix": ") ",
     "delete_cmd_prefix": "rm(",
     "library": "var_list.r",
     "varRefreshCmd": "cat(var_dic_list()) "
    }
   },
   "types_to_exclude": [
    "module",
    "function",
    "builtin_function_or_method",
    "instance",
    "_Feature"
   ],
   "window_display": false
  }
 },
 "nbformat": 4,
 "nbformat_minor": 5
}
